{
  "cells": [
    {
      "cell_type": "markdown",
      "metadata": {
        "id": "YdJ3t4cZoarf"
      },
      "source": [
        "# 3. Indexing, slicing\n",
        "\n",
        "Each element of an array can be located by its position in each dimension. Numpy offers multiple ways to access single elements or groups of elements in very efficient ways. We will illustrate these concepts both with small simple matrices as well as a regular image, in order to illustrate them."
      ]
    },
    {
      "cell_type": "code",
      "execution_count": 1,
      "metadata": {
        "id": "6utPvGZSoarg"
      },
      "outputs": [],
      "source": [
        "import numpy as np"
      ]
    },
    {
      "cell_type": "markdown",
      "source": [
        "**3.1 Accessing single values**\n",
        "\n",
        "We create a small 2D array to use as an example:\n",
        "\n",
        "\n"
      ],
      "metadata": {
        "id": "LpJoDwXWokta"
      }
    },
    {
      "cell_type": "code",
      "execution_count": null,
      "metadata": {
        "id": "aJUgUHZKoari",
        "outputId": "8db5cb97-abb1-468e-a2f4-289096122ab4"
      },
      "outputs": [
        {
          "data": {
            "text/plain": [
              "array([[12.99205086,  7.7157832 , 14.66021898,  8.21412356],\n",
              "       [ 9.19391119,  7.92142871, 13.31222213,  8.19957688],\n",
              "       [11.08009573,  8.54243953, 12.71096417, 10.09637761]])"
            ]
          },
          "execution_count": 4,
          "metadata": {},
          "output_type": "execute_result"
        }
      ],
      "source": [
        "normal_array = np.random.normal(10, 2, (3,4))\n",
        "normal_array"
      ]
    },
    {
      "cell_type": "markdown",
      "metadata": {
        "id": "3TF8D9s1oarj"
      },
      "source": [
        "It is very easy to access an array's values. One can just pass an *index* for each dimensions. For example to recover the value on the last row and second column of the ```normal_array``` array we just write (remember counting starts at 0):"
      ]
    },
    {
      "cell_type": "code",
      "execution_count": null,
      "metadata": {
        "id": "3DjRclTjoarj",
        "outputId": "0cd9f02a-873b-458d-8761-2d87218d2b35"
      },
      "outputs": [
        {
          "data": {
            "text/plain": [
              "8.542439525354693"
            ]
          },
          "execution_count": 5,
          "metadata": {},
          "output_type": "execute_result"
        }
      ],
      "source": [
        "single_value = normal_array[2,1]\n",
        "single_value"
      ]
    },
    {
      "cell_type": "markdown",
      "metadata": {
        "id": "frSNzzGMoark"
      },
      "source": [
        "What is returned in that case is a single number that we can re-use:"
      ]
    },
    {
      "cell_type": "code",
      "execution_count": null,
      "metadata": {
        "id": "_hNx9wvooark",
        "outputId": "98365a2c-47b0-47c8-b4dd-2c9d4c9a5c49"
      },
      "outputs": [
        {
          "data": {
            "text/plain": [
              "18.542439525354695"
            ]
          },
          "execution_count": 6,
          "metadata": {},
          "output_type": "execute_result"
        }
      ],
      "source": [
        "single_value += 10\n",
        "single_value"
      ]
    },
    {
      "cell_type": "markdown",
      "metadata": {
        "id": "4th9OauDoark"
      },
      "source": [
        "And that change doesn't affect the original value in the array:"
      ]
    },
    {
      "cell_type": "code",
      "execution_count": null,
      "metadata": {
        "id": "A6NyiZHLoark",
        "outputId": "53c54e89-42b1-4f2a-fed6-8a5de575d9d9"
      },
      "outputs": [
        {
          "data": {
            "text/plain": [
              "array([[12.99205086,  7.7157832 , 14.66021898,  8.21412356],\n",
              "       [ 9.19391119,  7.92142871, 13.31222213,  8.19957688],\n",
              "       [11.08009573,  8.54243953, 12.71096417, 10.09637761]])"
            ]
          },
          "execution_count": 7,
          "metadata": {},
          "output_type": "execute_result"
        }
      ],
      "source": [
        "normal_array"
      ]
    },
    {
      "cell_type": "markdown",
      "metadata": {
        "id": "HwmFv2tloark"
      },
      "source": [
        "However we can also directly change the value in an array:"
      ]
    },
    {
      "cell_type": "code",
      "execution_count": null,
      "metadata": {
        "id": "_7UXV1xooarl"
      },
      "outputs": [],
      "source": [
        "normal_array[2,1] = 23"
      ]
    },
    {
      "cell_type": "code",
      "execution_count": null,
      "metadata": {
        "id": "zevWpX3yoarl",
        "outputId": "e24c0b71-2ff6-499d-9a2b-277541112b78"
      },
      "outputs": [
        {
          "data": {
            "text/plain": [
              "array([[12.99205086,  7.7157832 , 14.66021898,  8.21412356],\n",
              "       [ 9.19391119,  7.92142871, 13.31222213,  8.19957688],\n",
              "       [11.08009573, 23.        , 12.71096417, 10.09637761]])"
            ]
          },
          "execution_count": 9,
          "metadata": {},
          "output_type": "execute_result"
        }
      ],
      "source": [
        "normal_array"
      ]
    },
    {
      "cell_type": "markdown",
      "metadata": {
        "id": "xOyV54f_oarl"
      },
      "source": [
        "## 3.2 Accessing part of an array with indices: slicing"
      ]
    },
    {
      "cell_type": "markdown",
      "metadata": {
        "id": "Xtu6s1Geoarl"
      },
      "source": [
        "### 3.2.1 Selecting a range of elements\n",
        "\n",
        "One can also select multiple elements in each dimension (e.g. multiple rows and columns in 2D) by using the ```start:end:step``` syntax. By default, if omitted, ```start=0```, ```end=last element``` and ```step=1```. For example to select the first **and** second rows of the first column, we can write:"
      ]
    },
    {
      "cell_type": "code",
      "execution_count": null,
      "metadata": {
        "id": "hksbQhwioarl",
        "outputId": "88b063b1-6e98-4ced-eaf4-ea8df58b5526"
      },
      "outputs": [
        {
          "data": {
            "text/plain": [
              "array([12.99205086,  9.19391119])"
            ]
          },
          "execution_count": 10,
          "metadata": {},
          "output_type": "execute_result"
        }
      ],
      "source": [
        "normal_array[0:2,0]"
      ]
    },
    {
      "cell_type": "markdown",
      "metadata": {
        "id": "SamktjZgoarl"
      },
      "source": [
        "Note that the ```end``` element is **not** included. One can use the same notation for all dimensions:"
      ]
    },
    {
      "cell_type": "code",
      "execution_count": null,
      "metadata": {
        "id": "VGqvneTsoarl",
        "outputId": "2677e932-93d1-4982-fa55-10faed871072"
      },
      "outputs": [
        {
          "data": {
            "text/plain": [
              "array([[14.66021898,  8.21412356],\n",
              "       [13.31222213,  8.19957688]])"
            ]
          },
          "execution_count": 11,
          "metadata": {},
          "output_type": "execute_result"
        }
      ],
      "source": [
        "normal_array[0:2,2:4]"
      ]
    },
    {
      "cell_type": "code",
      "execution_count": null,
      "metadata": {
        "id": "P24ZhseBoarm",
        "outputId": "f4f57a93-172c-4eb7-b257-b2270035e039"
      },
      "outputs": [
        {
          "data": {
            "text/plain": [
              "array([[13.31222213,  8.19957688],\n",
              "       [12.71096417, 10.09637761]])"
            ]
          },
          "execution_count": 12,
          "metadata": {},
          "output_type": "execute_result"
        }
      ],
      "source": [
        "normal_array[1:,2:4]"
      ]
    },
    {
      "cell_type": "markdown",
      "metadata": {
        "id": "sBzPbufWoarm"
      },
      "source": [
        "### 3.2.2 Selecting all elements\n",
        "If we only specify ```:```, it means we want to recover all elements in that dimension:"
      ]
    },
    {
      "cell_type": "code",
      "execution_count": null,
      "metadata": {
        "id": "vbawbHnroarm",
        "outputId": "6884ad41-87c8-4a81-ef58-628ccc262390"
      },
      "outputs": [
        {
          "data": {
            "text/plain": [
              "array([[14.66021898,  8.21412356],\n",
              "       [13.31222213,  8.19957688],\n",
              "       [12.71096417, 10.09637761]])"
            ]
          },
          "execution_count": 13,
          "metadata": {},
          "output_type": "execute_result"
        }
      ],
      "source": [
        "normal_array[:,2:4]"
      ]
    },
    {
      "cell_type": "markdown",
      "metadata": {
        "id": "oZ7_pnPYoarm"
      },
      "source": [
        "Also in general, if you only specify the value for a single axis, this will take the first element of the first dimension:"
      ]
    },
    {
      "cell_type": "code",
      "execution_count": null,
      "metadata": {
        "id": "URSIPI-Coarm",
        "outputId": "08be9b63-6541-4422-d7e4-1de9b64719e4"
      },
      "outputs": [
        {
          "data": {
            "text/plain": [
              "array([[12.99205086,  7.7157832 , 14.66021898,  8.21412356],\n",
              "       [ 9.19391119,  7.92142871, 13.31222213,  8.19957688],\n",
              "       [11.08009573, 23.        , 12.71096417, 10.09637761]])"
            ]
          },
          "execution_count": 14,
          "metadata": {},
          "output_type": "execute_result"
        }
      ],
      "source": [
        "normal_array"
      ]
    },
    {
      "cell_type": "code",
      "execution_count": null,
      "metadata": {
        "id": "3sKArrEioarm",
        "outputId": "f1386276-ec4e-4550-fdd6-c42b8998b2aa"
      },
      "outputs": [
        {
          "data": {
            "text/plain": [
              "array([ 9.19391119,  7.92142871, 13.31222213,  8.19957688])"
            ]
          },
          "execution_count": 15,
          "metadata": {},
          "output_type": "execute_result"
        }
      ],
      "source": [
        "normal_array[1]"
      ]
    },
    {
      "cell_type": "markdown",
      "metadata": {
        "id": "xsQpWVaJoarm"
      },
      "source": [
        "Finally note that if you want to recover only one element along a dimension (single row, column etc), you can do that in two ways:"
      ]
    },
    {
      "cell_type": "code",
      "execution_count": null,
      "metadata": {
        "id": "kvdG6LNgoarn",
        "outputId": "91a2bf40-9c67-4b5e-9ccd-235488b6c381"
      },
      "outputs": [
        {
          "data": {
            "text/plain": [
              "array([12.99205086,  7.7157832 , 14.66021898,  8.21412356])"
            ]
          },
          "execution_count": 16,
          "metadata": {},
          "output_type": "execute_result"
        }
      ],
      "source": [
        "normal_array[0,:]"
      ]
    },
    {
      "cell_type": "markdown",
      "metadata": {
        "id": "kEOAREVUoaro"
      },
      "source": [
        "This returns a one-dimensional array containing a single row from the original array:"
      ]
    },
    {
      "cell_type": "code",
      "execution_count": null,
      "metadata": {
        "id": "KNR5WSIOoaro",
        "outputId": "7e008ea9-8e5c-4581-adbf-ec0fea3d277a"
      },
      "outputs": [
        {
          "data": {
            "text/plain": [
              "(4,)"
            ]
          },
          "execution_count": 17,
          "metadata": {},
          "output_type": "execute_result"
        }
      ],
      "source": [
        "normal_array[0,:].shape"
      ]
    },
    {
      "cell_type": "markdown",
      "metadata": {
        "id": "ia9EeDRIoaro"
      },
      "source": [
        "Instead, if you specify actual boundaries that still return only a single row:"
      ]
    },
    {
      "cell_type": "code",
      "execution_count": null,
      "metadata": {
        "id": "tjwJc9pOoaro",
        "outputId": "7b7c8b25-951e-44f1-9d5c-9e3b0a34f441"
      },
      "outputs": [
        {
          "data": {
            "text/plain": [
              "array([[12.99205086,  7.7157832 , 14.66021898,  8.21412356]])"
            ]
          },
          "execution_count": 18,
          "metadata": {},
          "output_type": "execute_result"
        }
      ],
      "source": [
        "normal_array[0:1,:]"
      ]
    },
    {
      "cell_type": "code",
      "execution_count": null,
      "metadata": {
        "id": "dawovOdooaro",
        "outputId": "2abaf011-816d-4cad-e660-a1d224b559b3"
      },
      "outputs": [
        {
          "data": {
            "text/plain": [
              "(1, 4)"
            ]
          },
          "execution_count": 19,
          "metadata": {},
          "output_type": "execute_result"
        }
      ],
      "source": [
        "normal_array[0:1,:].shape"
      ]
    },
    {
      "cell_type": "markdown",
      "metadata": {
        "id": "oz46Xs8Joarp"
      },
      "source": [
        "## 3.2 Sub-arrays are not copies!\n",
        "\n",
        "As often with Python when you create a new variable using a sub-array, that variable **is not independent** from the original variable:"
      ]
    },
    {
      "cell_type": "code",
      "execution_count": null,
      "metadata": {
        "id": "c-MxR5Oioarp"
      },
      "outputs": [],
      "source": [
        "sub_array = normal_array[:,2:4]"
      ]
    },
    {
      "cell_type": "code",
      "execution_count": null,
      "metadata": {
        "id": "qb9GGrv5oarq",
        "outputId": "63fcd7af-a9e9-4ee1-a079-519d5f6cec33"
      },
      "outputs": [
        {
          "data": {
            "text/plain": [
              "array([[14.66021898,  8.21412356],\n",
              "       [13.31222213,  8.19957688],\n",
              "       [12.71096417, 10.09637761]])"
            ]
          },
          "execution_count": 24,
          "metadata": {},
          "output_type": "execute_result"
        }
      ],
      "source": [
        "sub_array"
      ]
    },
    {
      "cell_type": "code",
      "execution_count": null,
      "metadata": {
        "id": "REoAvXOwoarq",
        "outputId": "f930f681-767c-4920-c7ec-42d9a7d97651"
      },
      "outputs": [
        {
          "data": {
            "text/plain": [
              "array([[12.99205086,  7.7157832 , 14.66021898,  8.21412356],\n",
              "       [ 9.19391119,  7.92142871, 13.31222213,  8.19957688],\n",
              "       [11.08009573, 23.        , 12.71096417, 10.09637761]])"
            ]
          },
          "execution_count": 25,
          "metadata": {},
          "output_type": "execute_result"
        }
      ],
      "source": [
        "normal_array"
      ]
    },
    {
      "cell_type": "markdown",
      "metadata": {
        "id": "-Rp0M4wBoarq"
      },
      "source": [
        "If for example we modify ```normal_array```, this is going to be reflected in ```sub_array``` too:"
      ]
    },
    {
      "cell_type": "code",
      "execution_count": null,
      "metadata": {
        "id": "ir457zCUoarq"
      },
      "outputs": [],
      "source": [
        "normal_array[0,2] = 100"
      ]
    },
    {
      "cell_type": "code",
      "execution_count": null,
      "metadata": {
        "id": "heIWEtbgoarq",
        "outputId": "8a973dcf-8235-46c4-f20b-632a4442bb5a"
      },
      "outputs": [
        {
          "data": {
            "text/plain": [
              "array([[ 12.99205086,   7.7157832 , 100.        ,   8.21412356],\n",
              "       [  9.19391119,   7.92142871,  13.31222213,   8.19957688],\n",
              "       [ 11.08009573,  23.        ,  12.71096417,  10.09637761]])"
            ]
          },
          "execution_count": 27,
          "metadata": {},
          "output_type": "execute_result"
        }
      ],
      "source": [
        "normal_array"
      ]
    },
    {
      "cell_type": "code",
      "execution_count": null,
      "metadata": {
        "id": "RvBHF0Uioarq",
        "outputId": "e835812f-e1a4-4870-8017-a4e01b4a14fc"
      },
      "outputs": [
        {
          "data": {
            "text/plain": [
              "array([[100.        ,   8.21412356],\n",
              "       [ 13.31222213,   8.19957688],\n",
              "       [ 12.71096417,  10.09637761]])"
            ]
          },
          "execution_count": 28,
          "metadata": {},
          "output_type": "execute_result"
        }
      ],
      "source": [
        "sub_array"
      ]
    },
    {
      "cell_type": "markdown",
      "metadata": {
        "id": "gO_RWfF1oarq"
      },
      "source": [
        "The converse is also true:"
      ]
    },
    {
      "cell_type": "code",
      "execution_count": null,
      "metadata": {
        "id": "BuKaquYKoarq"
      },
      "outputs": [],
      "source": [
        "sub_array[0,1] = 50"
      ]
    },
    {
      "cell_type": "code",
      "execution_count": null,
      "metadata": {
        "id": "dMm5REl-oarq",
        "outputId": "3f24e93f-5be5-4d2b-e421-340e14650364"
      },
      "outputs": [
        {
          "data": {
            "text/plain": [
              "array([[100.        ,  50.        ],\n",
              "       [ 13.31222213,   8.19957688],\n",
              "       [ 12.71096417,  10.09637761]])"
            ]
          },
          "execution_count": 30,
          "metadata": {},
          "output_type": "execute_result"
        }
      ],
      "source": [
        "sub_array"
      ]
    },
    {
      "cell_type": "code",
      "execution_count": null,
      "metadata": {
        "id": "7ltJdNnUoarq",
        "outputId": "f5d32536-6923-4121-d49c-611a04436b45"
      },
      "outputs": [
        {
          "data": {
            "text/plain": [
              "array([[ 12.99205086,   7.7157832 , 100.        ,  50.        ],\n",
              "       [  9.19391119,   7.92142871,  13.31222213,   8.19957688],\n",
              "       [ 11.08009573,  23.        ,  12.71096417,  10.09637761]])"
            ]
          },
          "execution_count": 31,
          "metadata": {},
          "output_type": "execute_result"
        }
      ],
      "source": [
        "normal_array"
      ]
    },
    {
      "cell_type": "markdown",
      "metadata": {
        "id": "5ajA_zMLoarr"
      },
      "source": [
        "If you want your sub-array to be an *independent* copy of the original, you have to use the ```.copy()``` method:"
      ]
    },
    {
      "cell_type": "code",
      "execution_count": null,
      "metadata": {
        "id": "Ag0GmGKkoarr"
      },
      "outputs": [],
      "source": [
        "sub_array_copy = normal_array[1:3,:].copy()"
      ]
    },
    {
      "cell_type": "code",
      "execution_count": null,
      "metadata": {
        "id": "enbaCvqNoars",
        "outputId": "47d9fdb5-5ce9-4c2d-c52b-1d356e8cf2c0"
      },
      "outputs": [
        {
          "data": {
            "text/plain": [
              "array([[ 9.19391119,  7.92142871, 13.31222213,  8.19957688],\n",
              "       [11.08009573, 23.        , 12.71096417, 10.09637761]])"
            ]
          },
          "execution_count": 33,
          "metadata": {},
          "output_type": "execute_result"
        }
      ],
      "source": [
        "sub_array_copy"
      ]
    },
    {
      "cell_type": "code",
      "execution_count": null,
      "metadata": {
        "id": "XMxxiA8doars"
      },
      "outputs": [],
      "source": [
        "sub_array_copy[0,0] = 500"
      ]
    },
    {
      "cell_type": "code",
      "execution_count": null,
      "metadata": {
        "id": "6fV4ZTLGoars",
        "outputId": "41fc7904-687e-42ee-b152-1523b18b5f65"
      },
      "outputs": [
        {
          "data": {
            "text/plain": [
              "array([[500.        ,   7.92142871,  13.31222213,   8.19957688],\n",
              "       [ 11.08009573,  23.        ,  12.71096417,  10.09637761]])"
            ]
          },
          "execution_count": 35,
          "metadata": {},
          "output_type": "execute_result"
        }
      ],
      "source": [
        "sub_array_copy"
      ]
    },
    {
      "cell_type": "code",
      "execution_count": null,
      "metadata": {
        "id": "9wnYRrNcoars",
        "outputId": "1f1c7d6e-3cd5-4073-f9d4-28aff1cb6abd"
      },
      "outputs": [
        {
          "data": {
            "text/plain": [
              "array([[ 12.99205086,   7.7157832 , 100.        ,  50.        ],\n",
              "       [  9.19391119,   7.92142871,  13.31222213,   8.19957688],\n",
              "       [ 11.08009573,  23.        ,  12.71096417,  10.09637761]])"
            ]
          },
          "execution_count": 36,
          "metadata": {},
          "output_type": "execute_result"
        }
      ],
      "source": [
        "normal_array"
      ]
    },
    {
      "cell_type": "markdown",
      "metadata": {
        "id": "rA2GVpWsoars"
      },
      "source": [
        "## 3.4. Accessing parts of an array with coordinates\n",
        "\n",
        "In the above case, we are limited to select rectangular sub-regions of the array. But sometimes we want to recover a series of specific elements for example the elements (row=0, column=3) and (row=2, column=2). To achieve that we can simply index the array with a list containing row indices and another with columns indices:"
      ]
    },
    {
      "cell_type": "code",
      "execution_count": null,
      "metadata": {
        "id": "40q_5H74oars",
        "outputId": "020cadb1-48be-4bab-eda5-6cb9870b2625"
      },
      "outputs": [
        {
          "data": {
            "text/plain": [
              "array([50.        , 12.71096417])"
            ]
          },
          "execution_count": 37,
          "metadata": {},
          "output_type": "execute_result"
        }
      ],
      "source": [
        "row_indices = [0,2]\n",
        "col_indices = [3,2]\n",
        "\n",
        "normal_array[row_indices, col_indices]"
      ]
    },
    {
      "cell_type": "code",
      "execution_count": null,
      "metadata": {
        "id": "KRwTf5phoart",
        "outputId": "665ec40d-0bb7-455b-d130-973171b37d40"
      },
      "outputs": [
        {
          "data": {
            "text/plain": [
              "array([[ 12.99205086,   7.7157832 , 100.        ,  50.        ],\n",
              "       [  9.19391119,   7.92142871,  13.31222213,   8.19957688],\n",
              "       [ 11.08009573,  23.        ,  12.71096417,  10.09637761]])"
            ]
          },
          "execution_count": 38,
          "metadata": {},
          "output_type": "execute_result"
        }
      ],
      "source": [
        "normal_array"
      ]
    },
    {
      "cell_type": "code",
      "execution_count": null,
      "metadata": {
        "id": "CAz85qhLoart"
      },
      "outputs": [],
      "source": [
        "selected_elements = normal_array[row_indices, col_indices]"
      ]
    },
    {
      "cell_type": "code",
      "execution_count": null,
      "metadata": {
        "id": "VOYvD9POoart",
        "outputId": "05afdca2-e1b6-4c48-e745-c6b6b0ead1fa"
      },
      "outputs": [
        {
          "data": {
            "text/plain": [
              "array([50.        , 12.71096417])"
            ]
          },
          "execution_count": 40,
          "metadata": {},
          "output_type": "execute_result"
        }
      ],
      "source": [
        "selected_elements"
      ]
    },
    {
      "cell_type": "markdown",
      "metadata": {
        "id": "Cp7LoW-foart"
      },
      "source": [
        "## 3.5 Logical indexing\n",
        "\n",
        "The last way of extracting elements from an array is to use a boolean array of same shape. For example let's create a boolean array by comparing our original matrix to a threshold:"
      ]
    },
    {
      "cell_type": "code",
      "execution_count": null,
      "metadata": {
        "id": "VZXmyDwooart",
        "outputId": "8db37857-6373-4085-de7e-b163800a53a2"
      },
      "outputs": [
        {
          "data": {
            "text/plain": [
              "array([[False, False,  True,  True],\n",
              "       [False, False, False, False],\n",
              "       [False, False, False, False]])"
            ]
          },
          "execution_count": 41,
          "metadata": {},
          "output_type": "execute_result"
        }
      ],
      "source": [
        "bool_array = normal_array > 40\n",
        "bool_array"
      ]
    },
    {
      "cell_type": "markdown",
      "metadata": {
        "id": "9x3BOJq4oart"
      },
      "source": [
        "We see that we only have two elements which are above the threshold. Now we can use this logical array to *index* the original array. Imagine that the logical array is a mask with holes only in ```True``` positions and that we superpose it to the original array. Then we just take all the values visible in the holes:"
      ]
    },
    {
      "cell_type": "code",
      "execution_count": null,
      "metadata": {
        "id": "pv12HKFdoart",
        "outputId": "dc5c499e-03b9-4653-b182-7c8a45d413ad"
      },
      "outputs": [
        {
          "data": {
            "text/plain": [
              "array([100.,  50.])"
            ]
          },
          "execution_count": 42,
          "metadata": {},
          "output_type": "execute_result"
        }
      ],
      "source": [
        "normal_array[bool_array]"
      ]
    },
    {
      "cell_type": "markdown",
      "metadata": {
        "id": "jUvgxH4Boaru"
      },
      "source": [
        "## 3.6 Reshaping arrays\n",
        "\n",
        "Often it is necessary to reshape arrays, i.e. keep elements unchanged but change their position. There are multiple functions that allow one to do this. The main one is of course ```reshape```."
      ]
    },
    {
      "cell_type": "markdown",
      "metadata": {
        "id": "jb6CO3Twoaru"
      },
      "source": [
        "### 3.6.1 ```reshape```\n",
        "\n",
        "Given an array of $MxN$ elements, one can reshape it with a shape $OxP$ as long as $M*N = O*P$."
      ]
    },
    {
      "cell_type": "code",
      "execution_count": null,
      "metadata": {
        "id": "fSv-Os1Coaru",
        "outputId": "aabd7a50-2126-409f-f82e-a4260d380fb5"
      },
      "outputs": [
        {
          "data": {
            "text/plain": [
              "array([[ 12.99205086,   7.7157832 , 100.        ,  50.        ,\n",
              "          9.19391119,   7.92142871],\n",
              "       [ 13.31222213,   8.19957688,  11.08009573,  23.        ,\n",
              "         12.71096417,  10.09637761]])"
            ]
          },
          "execution_count": 45,
          "metadata": {},
          "output_type": "execute_result"
        }
      ],
      "source": [
        "reshaped = np.reshape(normal_array,(2,6))\n",
        "reshaped"
      ]
    },
    {
      "cell_type": "code",
      "execution_count": null,
      "metadata": {
        "id": "86hsadRdoaru",
        "outputId": "62bca08e-865b-43b3-953b-63097efd8c7e"
      },
      "outputs": [
        {
          "data": {
            "text/plain": [
              "(2, 6)"
            ]
          },
          "execution_count": 46,
          "metadata": {},
          "output_type": "execute_result"
        }
      ],
      "source": [
        "reshaped.shape"
      ]
    },
    {
      "cell_type": "code",
      "execution_count": null,
      "metadata": {
        "id": "kL6Hns3roaru",
        "outputId": "3ce71ae6-da77-46e1-814a-56a785afb535"
      },
      "outputs": [
        {
          "data": {
            "text/plain": [
              "902.0"
            ]
          },
          "execution_count": 47,
          "metadata": {},
          "output_type": "execute_result"
        }
      ],
      "source": [
        "300*451/150"
      ]
    },
    {
      "cell_type": "markdown",
      "metadata": {
        "id": "g3M1zfcVoarv"
      },
      "source": [
        "### 3.6.2 Flattening\n",
        "\n",
        "It's also possible to simply flatten an array i.e. remove all dimensions to create a 1D array. This can be useful for example to create a histogram of a high-dimensional array."
      ]
    },
    {
      "cell_type": "code",
      "execution_count": null,
      "metadata": {
        "id": "vsNcTtV_oarv",
        "outputId": "a53b1a08-eb8b-4d53-af01-c2e8cb97158a"
      },
      "outputs": [
        {
          "data": {
            "text/plain": [
              "array([ 12.99205086,   7.7157832 , 100.        ,  50.        ,\n",
              "         9.19391119,   7.92142871,  13.31222213,   8.19957688,\n",
              "        11.08009573,  23.        ,  12.71096417,  10.09637761])"
            ]
          },
          "execution_count": 49,
          "metadata": {},
          "output_type": "execute_result"
        }
      ],
      "source": [
        "flattened = np.ravel(normal_array)\n",
        "flattened"
      ]
    },
    {
      "cell_type": "code",
      "execution_count": null,
      "metadata": {
        "id": "JkQsAgIIoarv",
        "outputId": "adf99482-f6aa-43d6-f97d-6de89b8babee"
      },
      "outputs": [
        {
          "data": {
            "text/plain": [
              "(12,)"
            ]
          },
          "execution_count": 50,
          "metadata": {},
          "output_type": "execute_result"
        }
      ],
      "source": [
        "flattened.shape"
      ]
    },
    {
      "cell_type": "markdown",
      "metadata": {
        "id": "Vwtyu9Ppoarv"
      },
      "source": [
        "### 3.6.3 Dimension collapse\n",
        "\n",
        "Another common way that leads to reshaping is projection. Let's consider again our ```normal_array```:"
      ]
    },
    {
      "cell_type": "code",
      "execution_count": null,
      "metadata": {
        "id": "IJZj0fpcoarv",
        "outputId": "7058ab0a-fa29-4e4b-bbe8-b5ca1caecefd"
      },
      "outputs": [
        {
          "data": {
            "text/plain": [
              "array([[ 12.99205086,   7.7157832 , 100.        ,  50.        ],\n",
              "       [  9.19391119,   7.92142871,  13.31222213,   8.19957688],\n",
              "       [ 11.08009573,  23.        ,  12.71096417,  10.09637761]])"
            ]
          },
          "execution_count": 51,
          "metadata": {},
          "output_type": "execute_result"
        }
      ],
      "source": [
        "normal_array"
      ]
    },
    {
      "cell_type": "markdown",
      "metadata": {
        "id": "rQep6kfPoarv"
      },
      "source": [
        "We can project all values along the first or second axis, to recover for each row/column the largest value:"
      ]
    },
    {
      "cell_type": "code",
      "execution_count": null,
      "metadata": {
        "id": "7Y-nimMmoarw",
        "outputId": "c8be939b-640e-459d-90d0-4c89dd0a464a"
      },
      "outputs": [
        {
          "data": {
            "text/plain": [
              "array([ 12.99205086,  23.        , 100.        ,  50.        ])"
            ]
          },
          "execution_count": 52,
          "metadata": {},
          "output_type": "execute_result"
        }
      ],
      "source": [
        "proj0 = np.max(normal_array, axis = 0)\n",
        "proj0"
      ]
    },
    {
      "cell_type": "code",
      "execution_count": null,
      "metadata": {
        "id": "NnAuewAnoarw",
        "outputId": "d7fb96f3-9598-4249-9a3c-dd19d7903911"
      },
      "outputs": [
        {
          "data": {
            "text/plain": [
              "(4,)"
            ]
          },
          "execution_count": 53,
          "metadata": {},
          "output_type": "execute_result"
        }
      ],
      "source": [
        "proj0.shape"
      ]
    },
    {
      "cell_type": "markdown",
      "metadata": {
        "id": "JGxcFB2toarw"
      },
      "source": [
        "### 3.6.4 Swaping dimensions\n",
        "\n",
        "We can also simply exchange the position of dimensions. This can be achieved in different ways. For example we can ```np.roll``` dimensions, i.e. circularly shift dimensions. This conserves the relative oder of all axes:"
      ]
    },
    {
      "cell_type": "code",
      "execution_count": null,
      "metadata": {
        "id": "P5Nvb6pioarw",
        "outputId": "690bdb6d-d7b3-4ec6-d2d5-1a2219c28901"
      },
      "outputs": [
        {
          "data": {
            "text/plain": [
              "(4, 10, 20)"
            ]
          },
          "execution_count": 55,
          "metadata": {},
          "output_type": "execute_result"
        }
      ],
      "source": [
        "array3D = np.ones((4, 10, 20))\n",
        "array3D.shape"
      ]
    },
    {
      "cell_type": "code",
      "execution_count": null,
      "metadata": {
        "id": "0ag9Ruumoarx",
        "outputId": "92d9414b-f828-4daf-dfac-91e64467bd68"
      },
      "outputs": [
        {
          "data": {
            "text/plain": [
              "(10, 4, 20)"
            ]
          },
          "execution_count": 56,
          "metadata": {},
          "output_type": "execute_result"
        }
      ],
      "source": [
        "array_rolled = np.rollaxis(array3D, axis=1, start=0)\n",
        "array_rolled.shape"
      ]
    },
    {
      "cell_type": "markdown",
      "metadata": {
        "id": "4OKLkzZ-oarx"
      },
      "source": [
        "Alternatively you can swap two axes. This doesn't preserver their relative positions:"
      ]
    },
    {
      "cell_type": "code",
      "execution_count": null,
      "metadata": {
        "id": "FeWIpUS1oarx",
        "outputId": "e1041a62-a9ba-4fc8-e13b-24c4b7b5f95d"
      },
      "outputs": [
        {
          "data": {
            "text/plain": [
              "(20, 10, 4)"
            ]
          },
          "execution_count": 57,
          "metadata": {},
          "output_type": "execute_result"
        }
      ],
      "source": [
        "array_swapped = np.swapaxes(array3D, 0,2)\n",
        "array_swapped.shape"
      ]
    },
    {
      "cell_type": "markdown",
      "metadata": {
        "id": "_uVxguQHoary"
      },
      "source": [
        "### 3.6.5 Change positions\n",
        "\n",
        "Finally, we can also change the position of elements without changing the shape of the array. For example if we have an array with two columns, we can swap them:"
      ]
    },
    {
      "cell_type": "code",
      "execution_count": null,
      "metadata": {
        "id": "jlkJHA1foary",
        "outputId": "474ec98c-5051-4376-a669-6dd4475a53d4"
      },
      "outputs": [
        {
          "data": {
            "text/plain": [
              "array([[ 1.69380702,  0.45317243],\n",
              "       [ 0.97985485, -1.10186616],\n",
              "       [ 2.16001609,  0.29160533],\n",
              "       [-0.29204481, -0.80523649]])"
            ]
          },
          "execution_count": 59,
          "metadata": {},
          "output_type": "execute_result"
        }
      ],
      "source": [
        "array2D = np.random.normal(0,1,(4,2))\n",
        "array2D"
      ]
    },
    {
      "cell_type": "code",
      "execution_count": null,
      "metadata": {
        "id": "_6lV8m9Loarz",
        "outputId": "3fec3c5c-faef-4cf7-b8c6-7580029aafa5"
      },
      "outputs": [
        {
          "data": {
            "text/plain": [
              "array([[ 0.45317243,  1.69380702],\n",
              "       [-1.10186616,  0.97985485],\n",
              "       [ 0.29160533,  2.16001609],\n",
              "       [-0.80523649, -0.29204481]])"
            ]
          },
          "execution_count": 60,
          "metadata": {},
          "output_type": "execute_result"
        }
      ],
      "source": [
        "np.fliplr(array2D)"
      ]
    },
    {
      "cell_type": "markdown",
      "metadata": {
        "id": "NomqWpYOoarz"
      },
      "source": [
        "Similarly, if we have two rows:"
      ]
    },
    {
      "cell_type": "code",
      "execution_count": null,
      "metadata": {
        "id": "MIiQSf1Noarz",
        "outputId": "6123767f-b58f-42f7-b34f-9d8df4ca1e42"
      },
      "outputs": [
        {
          "data": {
            "text/plain": [
              "array([[-0.00285876,  0.76241924,  1.18546015, -0.13881594],\n",
              "       [-1.42554951,  0.36561497,  0.73252833, -1.43307846]])"
            ]
          },
          "execution_count": 61,
          "metadata": {},
          "output_type": "execute_result"
        }
      ],
      "source": [
        "array2D = np.random.normal(0,1,(2,4))\n",
        "array2D"
      ]
    },
    {
      "cell_type": "code",
      "execution_count": null,
      "metadata": {
        "id": "sydpXx1Coarz",
        "outputId": "e40fc14e-5027-45f6-89d7-97701a7facbc"
      },
      "outputs": [
        {
          "data": {
            "text/plain": [
              "array([[-1.42554951,  0.36561497,  0.73252833, -1.43307846],\n",
              "       [-0.00285876,  0.76241924,  1.18546015, -0.13881594]])"
            ]
          },
          "execution_count": 62,
          "metadata": {},
          "output_type": "execute_result"
        }
      ],
      "source": [
        "np.flipud(array2D)"
      ]
    }
  ],
  "metadata": {
    "kernelspec": {
      "display_name": "Python 3",
      "language": "python",
      "name": "python3"
    },
    "language_info": {
      "codemirror_mode": {
        "name": "ipython",
        "version": 3
      },
      "file_extension": ".py",
      "mimetype": "text/x-python",
      "name": "python",
      "nbconvert_exporter": "python",
      "pygments_lexer": "ipython3",
      "version": "3.8.2"
    },
    "colab": {
      "provenance": []
    }
  },
  "nbformat": 4,
  "nbformat_minor": 0
}