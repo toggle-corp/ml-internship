{
 "cells": [
  {
   "cell_type": "code",
   "execution_count": 1,
   "metadata": {},
   "outputs": [],
   "source": [
    "from sklearn.feature_extraction.text import CountVectorizer"
   ]
  },
  {
   "cell_type": "code",
   "execution_count": 2,
   "metadata": {},
   "outputs": [],
   "source": [
    "sentences = [\n",
    "    \"The sky is blue and it is beautiful.\",\n",
    "    \"The sky is clear today.\",\n",
    "    \"There are no clouds.\"\n",
    "]"
   ]
  },
  {
   "cell_type": "code",
   "execution_count": 3,
   "metadata": {},
   "outputs": [],
   "source": [
    "def preprocess(x):\n",
    "    return x.lower()"
   ]
  },
  {
   "cell_type": "code",
   "execution_count": 4,
   "metadata": {},
   "outputs": [],
   "source": [
    "cleaned_sentences = list(map(preprocess, sentences))"
   ]
  },
  {
   "cell_type": "code",
   "execution_count": 5,
   "metadata": {},
   "outputs": [
    {
     "data": {
      "text/plain": [
       "['the sky is blue and it is beautiful.',\n",
       " 'the sky is clear today.',\n",
       " 'there are no clouds.']"
      ]
     },
     "execution_count": 5,
     "metadata": {},
     "output_type": "execute_result"
    }
   ],
   "source": [
    "cleaned_sentences"
   ]
  },
  {
   "cell_type": "code",
   "execution_count": 6,
   "metadata": {},
   "outputs": [
    {
     "name": "stdout",
     "output_type": "stream",
     "text": [
      "[[1 0 1 1 0 0 2 1 0 1 1 0 0]\n",
      " [0 0 0 0 1 0 1 0 0 1 1 0 1]\n",
      " [0 1 0 0 0 1 0 0 1 0 0 1 0]]\n"
     ]
    }
   ],
   "source": [
    "cv = CountVectorizer()  ##give it a max features as 3\n",
    "bag_of_words = cv.fit_transform(cleaned_sentences).toarray()\n",
    "\n",
    "print(bag_of_words)"
   ]
  },
  {
   "cell_type": "code",
   "execution_count": 7,
   "metadata": {},
   "outputs": [
    {
     "data": {
      "text/plain": [
       "{'the': 10,\n",
       " 'sky': 9,\n",
       " 'is': 6,\n",
       " 'blue': 3,\n",
       " 'and': 0,\n",
       " 'it': 7,\n",
       " 'beautiful': 2,\n",
       " 'clear': 4,\n",
       " 'today': 12,\n",
       " 'there': 11,\n",
       " 'are': 1,\n",
       " 'no': 8,\n",
       " 'clouds': 5}"
      ]
     },
     "execution_count": 7,
     "metadata": {},
     "output_type": "execute_result"
    }
   ],
   "source": [
    "cv.vocabulary_"
   ]
  },
  {
   "cell_type": "code",
   "execution_count": 8,
   "metadata": {},
   "outputs": [
    {
     "data": {
      "text/plain": [
       "array(['and', 'are', 'beautiful', 'blue', 'clear', 'clouds', 'is', 'it',\n",
       "       'no', 'sky', 'the', 'there', 'today'], dtype=object)"
      ]
     },
     "execution_count": 8,
     "metadata": {},
     "output_type": "execute_result"
    }
   ],
   "source": [
    "cv.get_feature_names_out()"
   ]
  },
  {
   "cell_type": "code",
   "execution_count": null,
   "metadata": {},
   "outputs": [],
   "source": []
  }
 ],
 "metadata": {
  "kernelspec": {
   "display_name": "venv",
   "language": "python",
   "name": "python3"
  },
  "language_info": {
   "codemirror_mode": {
    "name": "ipython",
    "version": 3
   },
   "file_extension": ".py",
   "mimetype": "text/x-python",
   "name": "python",
   "nbconvert_exporter": "python",
   "pygments_lexer": "ipython3",
   "version": "3.10.13"
  },
  "orig_nbformat": 4
 },
 "nbformat": 4,
 "nbformat_minor": 2
}
