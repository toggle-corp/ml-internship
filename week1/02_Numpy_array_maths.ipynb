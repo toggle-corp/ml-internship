{
  "cells": [
    {
      "cell_type": "markdown",
      "metadata": {
        "id": "XttvNQkioFVs"
      },
      "source": [
        "# 2. Mathematics with arrays\n",
        "\n",
        "One of the great advantages of Numpy arrays is that they allow one to very easily apply mathematical operations to entire arrays effortlessly. We are presenting here 3 ways in which this can be done."
      ]
    },
    {
      "cell_type": "code",
      "execution_count": 1,
      "metadata": {
        "id": "CsM_1r80oFVu"
      },
      "outputs": [],
      "source": [
        "import numpy as np"
      ]
    },
    {
      "cell_type": "markdown",
      "metadata": {
        "id": "OBf-eWA6oFVu"
      },
      "source": [
        "## 2.1 Simple calculus\n",
        "\n",
        "To illustrate how arrays are useful, let's first consider the following problem. You have a list:"
      ]
    },
    {
      "cell_type": "code",
      "execution_count": 2,
      "metadata": {
        "id": "qMR3ULKuoFVv"
      },
      "outputs": [],
      "source": [
        "mylist = [1,2,3,4,5]"
      ]
    },
    {
      "cell_type": "markdown",
      "metadata": {
        "id": "0_jS3XEMoFVv"
      },
      "source": [
        "And now you wish to add to each element of that list the value 3. If we write:"
      ]
    },
    {
      "cell_type": "code",
      "execution_count": 3,
      "metadata": {
        "colab": {
          "base_uri": "https://localhost:8080/",
          "height": 144
        },
        "id": "3Zw33NqOoFVv",
        "outputId": "4c3460cd-70d3-4a54-e4df-1a8c4a47c6db"
      },
      "outputs": [
        {
          "output_type": "error",
          "ename": "TypeError",
          "evalue": "can only concatenate list (not \"int\") to list",
          "traceback": [
            "\u001b[0;31m---------------------------------------------------------------------------\u001b[0m",
            "\u001b[0;31mTypeError\u001b[0m                                 Traceback (most recent call last)",
            "\u001b[0;32m<ipython-input-3-ecae2962d7b1>\u001b[0m in \u001b[0;36m<cell line: 1>\u001b[0;34m()\u001b[0m\n\u001b[0;32m----> 1\u001b[0;31m \u001b[0mmylist\u001b[0m \u001b[0;34m+\u001b[0m \u001b[0;36m3\u001b[0m\u001b[0;34m\u001b[0m\u001b[0;34m\u001b[0m\u001b[0m\n\u001b[0m",
            "\u001b[0;31mTypeError\u001b[0m: can only concatenate list (not \"int\") to list"
          ]
        }
      ],
      "source": [
        "mylist + 3"
      ]
    },
    {
      "cell_type": "markdown",
      "metadata": {
        "id": "Iq2XCyo_oFVw"
      },
      "source": [
        "We receive an error because Python doesn't know how to combine a list with a simple integer. In this case we would have to use a for loop or a comprehension list, which is cumbersome."
      ]
    },
    {
      "cell_type": "code",
      "execution_count": 4,
      "metadata": {
        "colab": {
          "base_uri": "https://localhost:8080/"
        },
        "id": "Ntx6EpaToFVw",
        "outputId": "e262b7e8-a736-4bea-f52b-566d23739c58"
      },
      "outputs": [
        {
          "output_type": "execute_result",
          "data": {
            "text/plain": [
              "[4, 5, 6, 7, 8]"
            ]
          },
          "metadata": {},
          "execution_count": 4
        }
      ],
      "source": [
        "[x + 3 for x in mylist]"
      ]
    },
    {
      "cell_type": "markdown",
      "metadata": {
        "id": "5OyNjEq7oFVw"
      },
      "source": [
        "Let's see now how this works for an array:"
      ]
    },
    {
      "cell_type": "code",
      "execution_count": 5,
      "metadata": {
        "id": "0EZrK8b-oFVw"
      },
      "outputs": [],
      "source": [
        "myarray = np.array(mylist)"
      ]
    },
    {
      "cell_type": "code",
      "execution_count": 6,
      "metadata": {
        "colab": {
          "base_uri": "https://localhost:8080/"
        },
        "id": "EJH_GsR_oFVx",
        "outputId": "019203a2-c73a-47ff-c280-24671da45c96"
      },
      "outputs": [
        {
          "output_type": "execute_result",
          "data": {
            "text/plain": [
              "array([4, 5, 6, 7, 8])"
            ]
          },
          "metadata": {},
          "execution_count": 6
        }
      ],
      "source": [
        "myarray + 3"
      ]
    },
    {
      "cell_type": "markdown",
      "metadata": {
        "id": "KfguvxBOoFVx"
      },
      "source": [
        "Numpy understands without trouble that our goal is to add the value 3 to *each element* in our list. Naturally this is dimension independent e.g.:"
      ]
    },
    {
      "cell_type": "code",
      "execution_count": 7,
      "metadata": {
        "colab": {
          "base_uri": "https://localhost:8080/"
        },
        "id": "ZbP-4aZXoFVx",
        "outputId": "dd022b03-aae5-422e-d5e2-d9d2d6ede086"
      },
      "outputs": [
        {
          "output_type": "execute_result",
          "data": {
            "text/plain": [
              "array([[1., 1., 1., 1., 1., 1.],\n",
              "       [1., 1., 1., 1., 1., 1.],\n",
              "       [1., 1., 1., 1., 1., 1.]])"
            ]
          },
          "metadata": {},
          "execution_count": 7
        }
      ],
      "source": [
        "my2d_array = np.ones((3,6))\n",
        "my2d_array"
      ]
    },
    {
      "cell_type": "code",
      "execution_count": 8,
      "metadata": {
        "colab": {
          "base_uri": "https://localhost:8080/"
        },
        "id": "DUtnWahaoFVx",
        "outputId": "80153b2c-a7a9-413e-ae63-0f1ef518a788"
      },
      "outputs": [
        {
          "output_type": "execute_result",
          "data": {
            "text/plain": [
              "array([[4., 4., 4., 4., 4., 4.],\n",
              "       [4., 4., 4., 4., 4., 4.],\n",
              "       [4., 4., 4., 4., 4., 4.]])"
            ]
          },
          "metadata": {},
          "execution_count": 8
        }
      ],
      "source": [
        "my2d_array + 3"
      ]
    },
    {
      "cell_type": "markdown",
      "metadata": {
        "id": "w-gVStFuoFVx"
      },
      "source": [
        "Of course as long as we don't reassign this new state to our variable it remains unchanged:"
      ]
    },
    {
      "cell_type": "code",
      "execution_count": 9,
      "metadata": {
        "colab": {
          "base_uri": "https://localhost:8080/"
        },
        "id": "I_ESu34zoFVx",
        "outputId": "9961b047-dc43-4cbb-e4b5-6368d964c5ac"
      },
      "outputs": [
        {
          "output_type": "execute_result",
          "data": {
            "text/plain": [
              "array([[1., 1., 1., 1., 1., 1.],\n",
              "       [1., 1., 1., 1., 1., 1.],\n",
              "       [1., 1., 1., 1., 1., 1.]])"
            ]
          },
          "metadata": {},
          "execution_count": 9
        }
      ],
      "source": [
        "my2d_array"
      ]
    },
    {
      "cell_type": "markdown",
      "metadata": {
        "id": "8uLBf-TJoFVy"
      },
      "source": [
        "We have to write:"
      ]
    },
    {
      "cell_type": "code",
      "execution_count": 10,
      "metadata": {
        "id": "Yw1IQtCBoFVy"
      },
      "outputs": [],
      "source": [
        "my2d_array = my2d_array + 3"
      ]
    },
    {
      "cell_type": "code",
      "execution_count": 11,
      "metadata": {
        "colab": {
          "base_uri": "https://localhost:8080/"
        },
        "id": "gOyC8V4SoFVy",
        "outputId": "b4508b93-dfff-4be0-8173-53de81aad5b6"
      },
      "outputs": [
        {
          "output_type": "execute_result",
          "data": {
            "text/plain": [
              "array([[4., 4., 4., 4., 4., 4.],\n",
              "       [4., 4., 4., 4., 4., 4.],\n",
              "       [4., 4., 4., 4., 4., 4.]])"
            ]
          },
          "metadata": {},
          "execution_count": 11
        }
      ],
      "source": [
        "my2d_array"
      ]
    },
    {
      "cell_type": "markdown",
      "metadata": {
        "id": "kem1w1F8oFVy"
      },
      "source": [
        "Naturally all basic operations work:"
      ]
    },
    {
      "cell_type": "code",
      "execution_count": 12,
      "metadata": {
        "colab": {
          "base_uri": "https://localhost:8080/"
        },
        "id": "JaP2GHOMoFVy",
        "outputId": "b268fde6-c04e-4a95-b1f1-aad9bb4576db"
      },
      "outputs": [
        {
          "output_type": "execute_result",
          "data": {
            "text/plain": [
              "array([[16., 16., 16., 16., 16., 16.],\n",
              "       [16., 16., 16., 16., 16., 16.],\n",
              "       [16., 16., 16., 16., 16., 16.]])"
            ]
          },
          "metadata": {},
          "execution_count": 12
        }
      ],
      "source": [
        "my2d_array * 4"
      ]
    },
    {
      "cell_type": "code",
      "execution_count": 13,
      "metadata": {
        "colab": {
          "base_uri": "https://localhost:8080/"
        },
        "id": "P82FTAKpoFVy",
        "outputId": "33e86c91-2a03-4b44-f3cb-a49415ac735c"
      },
      "outputs": [
        {
          "output_type": "execute_result",
          "data": {
            "text/plain": [
              "array([[0.8, 0.8, 0.8, 0.8, 0.8, 0.8],\n",
              "       [0.8, 0.8, 0.8, 0.8, 0.8, 0.8],\n",
              "       [0.8, 0.8, 0.8, 0.8, 0.8, 0.8]])"
            ]
          },
          "metadata": {},
          "execution_count": 13
        }
      ],
      "source": [
        "my2d_array / 5"
      ]
    },
    {
      "cell_type": "code",
      "execution_count": 14,
      "metadata": {
        "colab": {
          "base_uri": "https://localhost:8080/"
        },
        "id": "cpp_Su7goFVy",
        "outputId": "00db6bf7-bd34-470f-dffb-23847e2d9172"
      },
      "outputs": [
        {
          "output_type": "execute_result",
          "data": {
            "text/plain": [
              "array([[1024., 1024., 1024., 1024., 1024., 1024.],\n",
              "       [1024., 1024., 1024., 1024., 1024., 1024.],\n",
              "       [1024., 1024., 1024., 1024., 1024., 1024.]])"
            ]
          },
          "metadata": {},
          "execution_count": 14
        }
      ],
      "source": [
        "my2d_array ** 5"
      ]
    },
    {
      "cell_type": "markdown",
      "metadata": {
        "id": "WouE4OoKoFVz"
      },
      "source": [
        "## 2.2 Mathematical functions\n",
        "\n",
        "In addition to simple arithmetic, Numpy offers a vast choice of functions that can be directly applied to arrays. For example trigonometry:"
      ]
    },
    {
      "cell_type": "code",
      "execution_count": 15,
      "metadata": {
        "colab": {
          "base_uri": "https://localhost:8080/"
        },
        "id": "GGHJvNlIoFVz",
        "outputId": "81146afc-de94-4a5e-b088-9f9973e23f7f"
      },
      "outputs": [
        {
          "output_type": "execute_result",
          "data": {
            "text/plain": [
              "array([ 0.54030231, -0.41614684, -0.9899925 , -0.65364362,  0.28366219])"
            ]
          },
          "metadata": {},
          "execution_count": 15
        }
      ],
      "source": [
        "np.cos(myarray)"
      ]
    },
    {
      "cell_type": "markdown",
      "metadata": {
        "id": "_pQZHd1QoFVz"
      },
      "source": [
        "Exponentials and logs:"
      ]
    },
    {
      "cell_type": "code",
      "execution_count": 16,
      "metadata": {
        "colab": {
          "base_uri": "https://localhost:8080/"
        },
        "id": "UpQCaRZdoFVz",
        "outputId": "4f929072-f45e-439b-b5bb-7de862093b62"
      },
      "outputs": [
        {
          "output_type": "execute_result",
          "data": {
            "text/plain": [
              "array([  2.71828183,   7.3890561 ,  20.08553692,  54.59815003,\n",
              "       148.4131591 ])"
            ]
          },
          "metadata": {},
          "execution_count": 16
        }
      ],
      "source": [
        "np.exp(myarray)"
      ]
    },
    {
      "cell_type": "code",
      "execution_count": 17,
      "metadata": {
        "colab": {
          "base_uri": "https://localhost:8080/"
        },
        "id": "XKIDQ_v_oFVz",
        "outputId": "9f08044d-d921-47fd-c070-044582b2ef2b"
      },
      "outputs": [
        {
          "output_type": "execute_result",
          "data": {
            "text/plain": [
              "array([0.        , 0.30103   , 0.47712125, 0.60205999, 0.69897   ])"
            ]
          },
          "metadata": {},
          "execution_count": 17
        }
      ],
      "source": [
        "np.log10(myarray)"
      ]
    },
    {
      "cell_type": "markdown",
      "metadata": {
        "id": "IpiiGio1oFV0"
      },
      "source": [
        "## 2.3 Logical operations"
      ]
    },
    {
      "cell_type": "markdown",
      "metadata": {
        "id": "CNq0iaCMoFV0"
      },
      "source": [
        "If we use a logical comparison on a regular variable, the output is a *boolean* (True or False) that describes the outcome of the comparison:"
      ]
    },
    {
      "cell_type": "code",
      "execution_count": 18,
      "metadata": {
        "colab": {
          "base_uri": "https://localhost:8080/"
        },
        "id": "kJlXZbRtoFV0",
        "outputId": "cd60fc48-6cc2-4d2c-ecb0-d3e08ff1cb43"
      },
      "outputs": [
        {
          "output_type": "execute_result",
          "data": {
            "text/plain": [
              "False"
            ]
          },
          "metadata": {},
          "execution_count": 18
        }
      ],
      "source": [
        "a = 3\n",
        "b = 2\n",
        "a > 3"
      ]
    },
    {
      "cell_type": "markdown",
      "metadata": {
        "id": "Tpw_yk0coFV0"
      },
      "source": [
        "We can do exactly the same thing with arrays. When we added 3 to an array, that value was automatically added to each element of the array. With logical operations, the comparison is also done for each element in the array resulting in a boolean array:"
      ]
    },
    {
      "cell_type": "code",
      "execution_count": 19,
      "metadata": {
        "colab": {
          "base_uri": "https://localhost:8080/"
        },
        "id": "3CX1I1xIoFV0",
        "outputId": "4e1621d5-907d-4ac5-dbeb-f27055961d7c"
      },
      "outputs": [
        {
          "output_type": "execute_result",
          "data": {
            "text/plain": [
              "array([[0., 0., 0., 0.],\n",
              "       [0., 0., 0., 0.],\n",
              "       [0., 0., 0., 1.],\n",
              "       [0., 0., 0., 0.]])"
            ]
          },
          "metadata": {},
          "execution_count": 19
        }
      ],
      "source": [
        "myarray = np.zeros((4,4))\n",
        "myarray[2,3] = 1\n",
        "myarray"
      ]
    },
    {
      "cell_type": "code",
      "execution_count": 20,
      "metadata": {
        "colab": {
          "base_uri": "https://localhost:8080/"
        },
        "id": "4OtGkUmzoFV0",
        "outputId": "25d46c7a-a832-4c99-9f84-3335e6390951"
      },
      "outputs": [
        {
          "output_type": "execute_result",
          "data": {
            "text/plain": [
              "array([[False, False, False, False],\n",
              "       [False, False, False, False],\n",
              "       [False, False, False,  True],\n",
              "       [False, False, False, False]])"
            ]
          },
          "metadata": {},
          "execution_count": 20
        }
      ],
      "source": [
        "myarray > 0"
      ]
    },
    {
      "cell_type": "markdown",
      "metadata": {
        "id": "KfWzR4vdoFV0"
      },
      "source": [
        "Exactly as for simple variables, we can assign this boolean array to a new variable directly:"
      ]
    },
    {
      "cell_type": "code",
      "execution_count": 21,
      "metadata": {
        "id": "ZkO4WAf5oFV1"
      },
      "outputs": [],
      "source": [
        "myboolean = myarray > 0"
      ]
    },
    {
      "cell_type": "code",
      "execution_count": 22,
      "metadata": {
        "colab": {
          "base_uri": "https://localhost:8080/"
        },
        "id": "QnLQTSNfoFV1",
        "outputId": "7dc4bf93-1d7e-409c-bdd4-c6fe996c5c3b"
      },
      "outputs": [
        {
          "output_type": "execute_result",
          "data": {
            "text/plain": [
              "array([[False, False, False, False],\n",
              "       [False, False, False, False],\n",
              "       [False, False, False,  True],\n",
              "       [False, False, False, False]])"
            ]
          },
          "metadata": {},
          "execution_count": 22
        }
      ],
      "source": [
        "myboolean"
      ]
    },
    {
      "cell_type": "markdown",
      "metadata": {
        "id": "fC8gfO8AoFV1"
      },
      "source": [
        "## 2.4 Methods modifying array dimensions"
      ]
    },
    {
      "cell_type": "markdown",
      "metadata": {
        "id": "031yXEZqoFV1"
      },
      "source": [
        "The operations described above were applied *element-wise*. However sometimes we need to do operations either at the array level or some of its axes. For example, we need very commonly statistics on an array (mean, sum etc.)"
      ]
    },
    {
      "cell_type": "code",
      "execution_count": 23,
      "metadata": {
        "colab": {
          "base_uri": "https://localhost:8080/"
        },
        "id": "ZWeN_32aoFV2",
        "outputId": "f786ec9d-20c1-4310-b85c-3c735650f31f"
      },
      "outputs": [
        {
          "output_type": "execute_result",
          "data": {
            "text/plain": [
              "array([[11.20271658, 13.67858034, 10.20847179, 10.2023001 ],\n",
              "       [11.92006338, 10.55953238,  8.78234755,  9.66359412],\n",
              "       [ 6.93190518,  7.55155238, 10.26104398, 10.52705721]])"
            ]
          },
          "metadata": {},
          "execution_count": 23
        }
      ],
      "source": [
        "nd_array = np.random.normal(10, 2, (3,4))\n",
        "nd_array"
      ]
    },
    {
      "cell_type": "code",
      "execution_count": 24,
      "metadata": {
        "colab": {
          "base_uri": "https://localhost:8080/"
        },
        "id": "4E-iKGNLoFV2",
        "outputId": "8a660a77-f6e1-4bf8-98ea-d3ab37140084"
      },
      "outputs": [
        {
          "output_type": "execute_result",
          "data": {
            "text/plain": [
              "10.124097081804075"
            ]
          },
          "metadata": {},
          "execution_count": 24
        }
      ],
      "source": [
        "np.mean(nd_array)"
      ]
    },
    {
      "cell_type": "code",
      "execution_count": 25,
      "metadata": {
        "colab": {
          "base_uri": "https://localhost:8080/"
        },
        "id": "NO2pbadfoFV2",
        "outputId": "03facce7-aaab-4f39-bca8-a6240eb7cac2"
      },
      "outputs": [
        {
          "output_type": "execute_result",
          "data": {
            "text/plain": [
              "1.7375189763444097"
            ]
          },
          "metadata": {},
          "execution_count": 25
        }
      ],
      "source": [
        "np.std(nd_array)"
      ]
    },
    {
      "cell_type": "markdown",
      "metadata": {
        "id": "uaOZ8Y0woFV2"
      },
      "source": [
        "Or the maximum value:"
      ]
    },
    {
      "cell_type": "code",
      "execution_count": 26,
      "metadata": {
        "colab": {
          "base_uri": "https://localhost:8080/"
        },
        "id": "A325qXHBoFV2",
        "outputId": "c2eec32e-e984-4782-a8a6-8b95db6ddede"
      },
      "outputs": [
        {
          "output_type": "execute_result",
          "data": {
            "text/plain": [
              "13.678580335443879"
            ]
          },
          "metadata": {},
          "execution_count": 26
        }
      ],
      "source": [
        "np.max(nd_array)"
      ]
    },
    {
      "cell_type": "markdown",
      "metadata": {
        "id": "lQCDv9uMoFV2"
      },
      "source": [
        "Note that several of these functions can be called as array methods instead of numpy functions:"
      ]
    },
    {
      "cell_type": "code",
      "execution_count": 27,
      "metadata": {
        "colab": {
          "base_uri": "https://localhost:8080/"
        },
        "id": "6LiwEUkaoFV2",
        "outputId": "0ec91e6a-b025-44e6-bf65-83556765a299"
      },
      "outputs": [
        {
          "output_type": "execute_result",
          "data": {
            "text/plain": [
              "10.124097081804075"
            ]
          },
          "metadata": {},
          "execution_count": 27
        }
      ],
      "source": [
        "nd_array.mean()"
      ]
    },
    {
      "cell_type": "code",
      "execution_count": 28,
      "metadata": {
        "colab": {
          "base_uri": "https://localhost:8080/"
        },
        "id": "pVXDjEOLoFV3",
        "outputId": "9a7141ee-bcee-43fd-c5d5-2d39242f39bb"
      },
      "outputs": [
        {
          "output_type": "execute_result",
          "data": {
            "text/plain": [
              "13.678580335443879"
            ]
          },
          "metadata": {},
          "execution_count": 28
        }
      ],
      "source": [
        "nd_array.max()"
      ]
    },
    {
      "cell_type": "markdown",
      "metadata": {
        "id": "tilDMxsToFV3"
      },
      "source": [
        "Note that most functions can be applied to specific axes. Let's remember that our arrays is:"
      ]
    },
    {
      "cell_type": "code",
      "execution_count": 29,
      "metadata": {
        "colab": {
          "base_uri": "https://localhost:8080/"
        },
        "id": "pm6_fFaOoFV3",
        "outputId": "d1e4f0ac-c98c-4a1d-8b79-ce2b9c9c890c"
      },
      "outputs": [
        {
          "output_type": "execute_result",
          "data": {
            "text/plain": [
              "array([[11.20271658, 13.67858034, 10.20847179, 10.2023001 ],\n",
              "       [11.92006338, 10.55953238,  8.78234755,  9.66359412],\n",
              "       [ 6.93190518,  7.55155238, 10.26104398, 10.52705721]])"
            ]
          },
          "metadata": {},
          "execution_count": 29
        }
      ],
      "source": [
        "nd_array"
      ]
    },
    {
      "cell_type": "markdown",
      "metadata": {
        "id": "cG6LntkdoFV3"
      },
      "source": [
        "We can for example do a maximum projection along the first axis (rows): the maximum value of eadch column is kept:"
      ]
    },
    {
      "cell_type": "code",
      "execution_count": 30,
      "metadata": {
        "colab": {
          "base_uri": "https://localhost:8080/"
        },
        "id": "4rNWbdR1oFV3",
        "outputId": "f1a225b3-67b6-46f3-b060-bd4a6d536397"
      },
      "outputs": [
        {
          "output_type": "execute_result",
          "data": {
            "text/plain": [
              "array([11.92006338, 13.67858034, 10.26104398, 10.52705721])"
            ]
          },
          "metadata": {},
          "execution_count": 30
        }
      ],
      "source": [
        "proj0 = nd_array.max(axis=0)\n",
        "proj0"
      ]
    },
    {
      "cell_type": "code",
      "execution_count": 31,
      "metadata": {
        "colab": {
          "base_uri": "https://localhost:8080/"
        },
        "id": "QFQk6d9poFV3",
        "outputId": "7cd78573-43cc-44d9-c530-be8dce5c1a5a"
      },
      "outputs": [
        {
          "output_type": "execute_result",
          "data": {
            "text/plain": [
              "(4,)"
            ]
          },
          "metadata": {},
          "execution_count": 31
        }
      ],
      "source": [
        "proj0.shape"
      ]
    },
    {
      "cell_type": "markdown",
      "metadata": {
        "id": "YKUGnUYFoFV3"
      },
      "source": [
        "We can of course do the same operation for the second axis:"
      ]
    },
    {
      "cell_type": "code",
      "execution_count": 32,
      "metadata": {
        "colab": {
          "base_uri": "https://localhost:8080/"
        },
        "id": "o0JicMhioFV4",
        "outputId": "9a4f3450-8240-440a-82e5-8742eb0ee614"
      },
      "outputs": [
        {
          "output_type": "execute_result",
          "data": {
            "text/plain": [
              "array([13.67858034, 11.92006338, 10.52705721])"
            ]
          },
          "metadata": {},
          "execution_count": 32
        }
      ],
      "source": [
        "proj1 = nd_array.max(axis=1)\n",
        "proj1"
      ]
    },
    {
      "cell_type": "code",
      "execution_count": 33,
      "metadata": {
        "colab": {
          "base_uri": "https://localhost:8080/"
        },
        "id": "9Q_AY91xoFV4",
        "outputId": "83b9583e-e630-46db-d4ee-6549dbf3c917"
      },
      "outputs": [
        {
          "output_type": "execute_result",
          "data": {
            "text/plain": [
              "(3,)"
            ]
          },
          "metadata": {},
          "execution_count": 33
        }
      ],
      "source": [
        "proj1.shape"
      ]
    },
    {
      "cell_type": "markdown",
      "metadata": {
        "id": "epRMCQPpoFV4"
      },
      "source": [
        "There are of course more advanced functions. For example a cumulative sum:"
      ]
    },
    {
      "cell_type": "code",
      "execution_count": 34,
      "metadata": {
        "colab": {
          "base_uri": "https://localhost:8080/"
        },
        "id": "-OHLqUkloFV4",
        "outputId": "6a18dc41-0dce-4bb5-a499-17ed3989d16a"
      },
      "outputs": [
        {
          "output_type": "execute_result",
          "data": {
            "text/plain": [
              "array([ 11.20271658,  24.88129691,  35.0897687 ,  45.2920688 ,\n",
              "        57.21213218,  67.77166455,  76.55401211,  86.21760623,\n",
              "        93.14951142, 100.70106379, 110.96210777, 121.48916498])"
            ]
          },
          "metadata": {},
          "execution_count": 34
        }
      ],
      "source": [
        "np.cumsum(nd_array)"
      ]
    },
    {
      "cell_type": "code",
      "source": [],
      "metadata": {
        "id": "Q2pyIKRsqOsa"
      },
      "execution_count": null,
      "outputs": []
    }
  ],
  "metadata": {
    "kernelspec": {
      "display_name": "Python 3",
      "language": "python",
      "name": "python3"
    },
    "language_info": {
      "codemirror_mode": {
        "name": "ipython",
        "version": 3
      },
      "file_extension": ".py",
      "mimetype": "text/x-python",
      "name": "python",
      "nbconvert_exporter": "python",
      "pygments_lexer": "ipython3",
      "version": "3.8.2"
    },
    "colab": {
      "provenance": []
    }
  },
  "nbformat": 4,
  "nbformat_minor": 0
}