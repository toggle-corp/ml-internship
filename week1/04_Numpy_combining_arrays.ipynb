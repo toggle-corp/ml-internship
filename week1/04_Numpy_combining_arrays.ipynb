{
  "cells": [
    {
      "cell_type": "markdown",
      "metadata": {
        "id": "5Qh7NN5grWtN"
      },
      "source": [
        "# 4. Combining arrays\n",
        "\n",
        "We have already seen how to create arrays and how to modify their dimensions. One last operation we can do is to combine multiple arrays. There are two ways to do that: by assembling arrays of same dimensions (concatenation, stacking etc.) or by combining arrays of different dimensions using *broadcasting*. Like in the previous chapter, we illustrate with small arrays and a real image."
      ]
    },
    {
      "cell_type": "code",
      "execution_count": 1,
      "metadata": {
        "id": "Kwwdq7GprWtP"
      },
      "outputs": [],
      "source": [
        "import numpy as np\n"
      ]
    },
    {
      "cell_type": "markdown",
      "metadata": {
        "id": "qH9dM3hdrWtR"
      },
      "source": [
        "## 4.1 Arrays of same dimensions\n",
        "\n",
        "Let's start by creating a few two 2D arrays:"
      ]
    },
    {
      "cell_type": "code",
      "execution_count": 2,
      "metadata": {
        "id": "7RIayjG3rWtS"
      },
      "outputs": [],
      "source": [
        "array1 = np.ones((10,5))\n",
        "array2 = 2*np.ones((10,3))\n",
        "array3 = 3*np.ones((10,5))"
      ]
    },
    {
      "cell_type": "markdown",
      "metadata": {
        "id": "BcBE9TygrWtS"
      },
      "source": [
        "### 4.1.1 Concatenation\n",
        "\n",
        "The first operation we can perform is concatenation, i.e. assembling the two 2D arrays into a larger 2D array. Of course we have to be careful with the size of each dimension. For example if we try to concatenate ```array1``` and ```array2``` along the first dimension, we get:"
      ]
    },
    {
      "cell_type": "code",
      "execution_count": 3,
      "metadata": {
        "colab": {
          "base_uri": "https://localhost:8080/",
          "height": 144
        },
        "id": "vTv3SPL7rWtS",
        "outputId": "44a6aa4b-c03c-4281-a788-66b68bd205f1"
      },
      "outputs": [
        {
          "output_type": "error",
          "ename": "ValueError",
          "evalue": "all the input array dimensions except for the concatenation axis must match exactly, but along dimension 1, the array at index 0 has size 5 and the array at index 1 has size 3",
          "traceback": [
            "\u001b[0;31m---------------------------------------------------------------------------\u001b[0m",
            "\u001b[0;31mValueError\u001b[0m                                Traceback (most recent call last)",
            "\u001b[0;32m<ipython-input-3-580de54a6ac0>\u001b[0m in \u001b[0;36m<cell line: 1>\u001b[0;34m()\u001b[0m\n\u001b[0;32m----> 1\u001b[0;31m \u001b[0mnp\u001b[0m\u001b[0;34m.\u001b[0m\u001b[0mconcatenate\u001b[0m\u001b[0;34m(\u001b[0m\u001b[0;34m[\u001b[0m\u001b[0marray1\u001b[0m\u001b[0;34m,\u001b[0m \u001b[0marray2\u001b[0m\u001b[0;34m]\u001b[0m\u001b[0;34m)\u001b[0m\u001b[0;34m\u001b[0m\u001b[0;34m\u001b[0m\u001b[0m\n\u001b[0m",
            "\u001b[0;31mValueError\u001b[0m: all the input array dimensions except for the concatenation axis must match exactly, but along dimension 1, the array at index 0 has size 5 and the array at index 1 has size 3"
          ]
        }
      ],
      "source": [
        "np.concatenate([array1, array2])"
      ]
    },
    {
      "cell_type": "markdown",
      "metadata": {
        "id": "eSEIu4sHrWtS"
      },
      "source": [
        "Both array have 10 lines, but one has 3 and the other 5 columns. We can therefore only concatenate them along the second dimensions:"
      ]
    },
    {
      "cell_type": "code",
      "execution_count": 4,
      "metadata": {
        "id": "Pj2MNl5yrWtS"
      },
      "outputs": [],
      "source": [
        "array_conc = np.concatenate([array1, array2], axis = 1)"
      ]
    },
    {
      "cell_type": "code",
      "execution_count": 5,
      "metadata": {
        "colab": {
          "base_uri": "https://localhost:8080/"
        },
        "id": "5fWkbZB_rWtT",
        "outputId": "da22195c-d767-44b3-bbc4-f14c5490d57e"
      },
      "outputs": [
        {
          "output_type": "execute_result",
          "data": {
            "text/plain": [
              "(10, 8)"
            ]
          },
          "metadata": {},
          "execution_count": 5
        }
      ],
      "source": [
        "array_conc.shape"
      ]
    },
    {
      "cell_type": "markdown",
      "metadata": {
        "id": "VFzEkrZjrWtU"
      },
      "source": [
        "### 4.1.2 Stacking\n",
        "\n",
        "If we have several arrays with exact same sizes, we can also *stack* them, i.e. assemble them along a *new* dimension. For example we can create a 3D stack out of two 2D arrays:"
      ]
    },
    {
      "cell_type": "code",
      "execution_count": 6,
      "metadata": {
        "id": "uc2-DUxrrWtU"
      },
      "outputs": [],
      "source": [
        "array_stack = np.stack([array1, array3])"
      ]
    },
    {
      "cell_type": "code",
      "execution_count": 7,
      "metadata": {
        "colab": {
          "base_uri": "https://localhost:8080/"
        },
        "id": "p2-X7FRtrWtU",
        "outputId": "1dc6efdd-f8ea-4f7c-fc1b-3ec959b20bdf"
      },
      "outputs": [
        {
          "output_type": "execute_result",
          "data": {
            "text/plain": [
              "(2, 10, 5)"
            ]
          },
          "metadata": {},
          "execution_count": 7
        }
      ],
      "source": [
        "array_stack.shape"
      ]
    },
    {
      "cell_type": "markdown",
      "metadata": {
        "id": "SPEbNAeMrWtU"
      },
      "source": [
        "We can select the dimension along which to stack, again by using the ```axis``` keyword. For example if we want our new dimensions to be the *third* axis we can write:"
      ]
    },
    {
      "cell_type": "code",
      "execution_count": 8,
      "metadata": {
        "id": "ZOyKXsnmrWtV"
      },
      "outputs": [],
      "source": [
        "array_stack = np.stack([array1, array3], axis = 2)"
      ]
    },
    {
      "cell_type": "code",
      "execution_count": 9,
      "metadata": {
        "colab": {
          "base_uri": "https://localhost:8080/"
        },
        "id": "Y6lHr34lrWtV",
        "outputId": "1929df12-6a3a-41aa-dee8-83c390f1f4e2"
      },
      "outputs": [
        {
          "output_type": "execute_result",
          "data": {
            "text/plain": [
              "(10, 5, 2)"
            ]
          },
          "metadata": {},
          "execution_count": 9
        }
      ],
      "source": [
        "array_stack.shape"
      ]
    },
    {
      "cell_type": "markdown",
      "metadata": {
        "id": "rfWmehYFrWtV"
      },
      "source": [
        "## 4.2 Arrays of different dimensions"
      ]
    },
    {
      "cell_type": "markdown",
      "metadata": {
        "id": "MJ7TSGoNrWtW"
      },
      "source": [
        "**bold text**### 4.2.1 Broadcasting\n",
        "\n",
        "Numpy has a powerful feature called **broadcasting**. This is the feature that for example allows you to write:"
      ]
    },
    {
      "cell_type": "code",
      "execution_count": 10,
      "metadata": {
        "colab": {
          "base_uri": "https://localhost:8080/"
        },
        "id": "tPNpuDjqrWtW",
        "outputId": "dd5940ab-45dc-460d-de16-6e8096de6c0c"
      },
      "outputs": [
        {
          "output_type": "execute_result",
          "data": {
            "text/plain": [
              "array([[2., 2., 2., 2., 2.],\n",
              "       [2., 2., 2., 2., 2.],\n",
              "       [2., 2., 2., 2., 2.],\n",
              "       [2., 2., 2., 2., 2.],\n",
              "       [2., 2., 2., 2., 2.],\n",
              "       [2., 2., 2., 2., 2.],\n",
              "       [2., 2., 2., 2., 2.],\n",
              "       [2., 2., 2., 2., 2.],\n",
              "       [2., 2., 2., 2., 2.],\n",
              "       [2., 2., 2., 2., 2.]])"
            ]
          },
          "metadata": {},
          "execution_count": 10
        }
      ],
      "source": [
        "2 * array1"
      ]
    },
    {
      "cell_type": "markdown",
      "metadata": {
        "id": "Pz9q01PArWtW"
      },
      "source": [
        "Here we just combined a single number with an array and Numpy *re-used* or *broadcasted* the element with less dimensions (the number 2) across the entire ```array1```. This does not only work with single numbers but also with arrays of different dimensions. Broadcasting can become very complex, so we limit ourselves here to a few common examples.\n",
        "\n",
        "The general rule is that in an operation with arrays of different dimensions, **missing dimensions** or **dimensions of size 1** get *repeated* to create two arrays of same size. Note that comparisons of dimension size start from the **last** dimensions. For example if we have a 1D array and a 2D array:"
      ]
    },
    {
      "cell_type": "code",
      "execution_count": 11,
      "metadata": {
        "colab": {
          "base_uri": "https://localhost:8080/"
        },
        "id": "PYdCvWdXrWtW",
        "outputId": "dbaff10b-1457-4176-e170-9d0b586edc47"
      },
      "outputs": [
        {
          "output_type": "execute_result",
          "data": {
            "text/plain": [
              "array([0, 1, 2, 3])"
            ]
          },
          "metadata": {},
          "execution_count": 11
        }
      ],
      "source": [
        "array1D = np.arange(4)\n",
        "array1D"
      ]
    },
    {
      "cell_type": "code",
      "execution_count": 12,
      "metadata": {
        "colab": {
          "base_uri": "https://localhost:8080/"
        },
        "id": "Rhf5L8XmrWtW",
        "outputId": "322698ef-6373-401b-89ce-812a1741e439"
      },
      "outputs": [
        {
          "output_type": "execute_result",
          "data": {
            "text/plain": [
              "array([[1., 1., 1., 1.],\n",
              "       [1., 1., 1., 1.],\n",
              "       [1., 1., 1., 1.],\n",
              "       [1., 1., 1., 1.],\n",
              "       [1., 1., 1., 1.],\n",
              "       [1., 1., 1., 1.]])"
            ]
          },
          "metadata": {},
          "execution_count": 12
        }
      ],
      "source": [
        "array2D = np.ones((6,4))\n",
        "array2D"
      ]
    },
    {
      "cell_type": "code",
      "execution_count": 13,
      "metadata": {
        "colab": {
          "base_uri": "https://localhost:8080/"
        },
        "id": "SW4F8wzMrWtW",
        "outputId": "b29be4a4-751f-4d40-f1dc-26237c4671e4"
      },
      "outputs": [
        {
          "output_type": "execute_result",
          "data": {
            "text/plain": [
              "array([[0., 1., 2., 3.],\n",
              "       [0., 1., 2., 3.],\n",
              "       [0., 1., 2., 3.],\n",
              "       [0., 1., 2., 3.],\n",
              "       [0., 1., 2., 3.],\n",
              "       [0., 1., 2., 3.]])"
            ]
          },
          "metadata": {},
          "execution_count": 13
        }
      ],
      "source": [
        "array1D * array2D"
      ]
    },
    {
      "cell_type": "markdown",
      "metadata": {
        "id": "U0evlmurrWtX"
      },
      "source": [
        "Here ```array1D``` which has a *single line* got *broadcasted* over *each line* of the 2D array ```array2D```. Note the the size of each dimension is important. If ```array1D``` had for example more columns, that broadcasting could not work:"
      ]
    },
    {
      "cell_type": "code",
      "execution_count": 14,
      "metadata": {
        "colab": {
          "base_uri": "https://localhost:8080/"
        },
        "id": "YVKsZT1ArWtX",
        "outputId": "e29334ed-879c-4697-93ae-dae4e9a6c47c"
      },
      "outputs": [
        {
          "output_type": "execute_result",
          "data": {
            "text/plain": [
              "array([0, 1, 2])"
            ]
          },
          "metadata": {},
          "execution_count": 14
        }
      ],
      "source": [
        "array1D = np.arange(3)\n",
        "array1D"
      ]
    },
    {
      "cell_type": "code",
      "execution_count": 15,
      "metadata": {
        "colab": {
          "base_uri": "https://localhost:8080/",
          "height": 144
        },
        "id": "DMVnk-0RrWtX",
        "outputId": "7be9c0e7-e40f-41da-d3a9-acafe55c44d1"
      },
      "outputs": [
        {
          "output_type": "error",
          "ename": "ValueError",
          "evalue": "operands could not be broadcast together with shapes (3,) (6,4) ",
          "traceback": [
            "\u001b[0;31m---------------------------------------------------------------------------\u001b[0m",
            "\u001b[0;31mValueError\u001b[0m                                Traceback (most recent call last)",
            "\u001b[0;32m<ipython-input-15-30434b67efb8>\u001b[0m in \u001b[0;36m<cell line: 1>\u001b[0;34m()\u001b[0m\n\u001b[0;32m----> 1\u001b[0;31m \u001b[0marray1D\u001b[0m \u001b[0;34m*\u001b[0m \u001b[0marray2D\u001b[0m\u001b[0;34m\u001b[0m\u001b[0;34m\u001b[0m\u001b[0m\n\u001b[0m",
            "\u001b[0;31mValueError\u001b[0m: operands could not be broadcast together with shapes (3,) (6,4) "
          ]
        }
      ],
      "source": [
        "array1D * array2D"
      ]
    },
    {
      "cell_type": "markdown",
      "metadata": {
        "id": "PeNW5zmYrWtX"
      },
      "source": [
        "As mentioned above, dimension sizes comparison start from the last dimension, so for example if ```array1D``` had a length of 6, like the first dimension of ```array2D```, broadcasting would fail:"
      ]
    }
  ],
  "metadata": {
    "kernelspec": {
      "display_name": "Python 3",
      "language": "python",
      "name": "python3"
    },
    "language_info": {
      "codemirror_mode": {
        "name": "ipython",
        "version": 3
      },
      "file_extension": ".py",
      "mimetype": "text/x-python",
      "name": "python",
      "nbconvert_exporter": "python",
      "pygments_lexer": "ipython3",
      "version": "3.8.2"
    },
    "colab": {
      "provenance": []
    }
  },
  "nbformat": 4,
  "nbformat_minor": 0
}