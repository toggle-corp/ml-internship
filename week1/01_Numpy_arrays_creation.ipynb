{
  "cells": [
    {
      "cell_type": "markdown",
      "metadata": {
        "id": "YczCyBlSmEbF"
      },
      "source": [
        "# 1. Creating Numpy arrays"
      ]
    },
    {
      "cell_type": "markdown",
      "metadata": {
        "id": "YcZm2yr1mEbH"
      },
      "source": [
        "Numpy has many different types of data \"containers\": lists, dictionaries, tuples etc. However none of them allows for efficient numerical calculation, in particular not in multi-dimensional cases (think e.g. of operations on images). Numpy has been developed exactly to fill this gap. It provides a new data structure, the **numpy array**, and a large library of operations that allow to:\n",
        "- generate such arrays\n",
        "- combine arrays in different ways (concatenation, stacking etc.)\n",
        "- modify such arrays (projection, extraction of sub-arrays etc.)\n",
        "- apply mathematical operations on them\n",
        "\n",
        "Numpy is the base of almost the entire Python scientific programming stack. Many libraries build on top of Numpy, either by providing specialized functions to operate on them (e.g. scikit-image for image processing) or by creating more complex data containers on top of it. The data science library Pandas that will also be presented in this course is a good example of this with its dataframe structures.\n"
      ]
    },
    {
      "cell_type": "code",
      "execution_count": 2,
      "metadata": {
        "id": "12KoXEwfmEbH"
      },
      "outputs": [],
      "source": [
        "import numpy as np"
      ]
    },
    {
      "cell_type": "markdown",
      "metadata": {
        "id": "DXEVoXRGmEbI"
      },
      "source": [
        "## 1.1 What is an array ?"
      ]
    },
    {
      "cell_type": "markdown",
      "metadata": {
        "id": "AJpOPiFomEbI"
      },
      "source": [
        "Let us create the simplest example of an array by transforming a regular Python list into an array"
      ]
    },
    {
      "cell_type": "code",
      "execution_count": 3,
      "metadata": {
        "id": "7tjOVgo6mEbI"
      },
      "outputs": [],
      "source": [
        "mylist = [2,5,3,9,5,2]"
      ]
    },
    {
      "cell_type": "code",
      "execution_count": 4,
      "metadata": {
        "colab": {
          "base_uri": "https://localhost:8080/"
        },
        "id": "LDGhiN4vmEbI",
        "outputId": "258e51db-ccc1-487d-ef97-ca84b6ea118c"
      },
      "outputs": [
        {
          "output_type": "execute_result",
          "data": {
            "text/plain": [
              "[2, 5, 3, 9, 5, 2]"
            ]
          },
          "metadata": {},
          "execution_count": 4
        }
      ],
      "source": [
        "mylist"
      ]
    },
    {
      "cell_type": "code",
      "execution_count": 5,
      "metadata": {
        "id": "Hc6jzjVqmEbJ"
      },
      "outputs": [],
      "source": [
        "myarray = np.array(mylist)"
      ]
    },
    {
      "cell_type": "code",
      "execution_count": 6,
      "metadata": {
        "colab": {
          "base_uri": "https://localhost:8080/"
        },
        "id": "ymd7Ot2cmEbK",
        "outputId": "561e6b87-945f-4282-8b11-0c9201417aa9"
      },
      "outputs": [
        {
          "output_type": "execute_result",
          "data": {
            "text/plain": [
              "array([2, 5, 3, 9, 5, 2])"
            ]
          },
          "metadata": {},
          "execution_count": 6
        }
      ],
      "source": [
        "myarray"
      ]
    },
    {
      "cell_type": "code",
      "execution_count": 7,
      "metadata": {
        "colab": {
          "base_uri": "https://localhost:8080/"
        },
        "id": "6HGUUUFkmEbK",
        "outputId": "e057ca28-a2bf-4b5d-e48e-0a9eb696f8b3"
      },
      "outputs": [
        {
          "output_type": "execute_result",
          "data": {
            "text/plain": [
              "numpy.ndarray"
            ]
          },
          "metadata": {},
          "execution_count": 7
        }
      ],
      "source": [
        "type(myarray)"
      ]
    },
    {
      "cell_type": "markdown",
      "metadata": {
        "id": "dTWTpTBpmEbL"
      },
      "source": [
        "### 1.1.1 Array Type"
      ]
    },
    {
      "cell_type": "markdown",
      "metadata": {
        "id": "BsDuEP17mEbL"
      },
      "source": [
        "Just like when we create regular variables in Python, arrays receive a type when created. Unlike regular list, **all** elements of an array always have the same type. The type of an array can be recovered through the ```.dtype``` method:"
      ]
    },
    {
      "cell_type": "code",
      "execution_count": 8,
      "metadata": {
        "colab": {
          "base_uri": "https://localhost:8080/"
        },
        "id": "HCnZtl_smEbL",
        "outputId": "9c9062c6-0c15-49d1-c577-6640c7645640"
      },
      "outputs": [
        {
          "output_type": "execute_result",
          "data": {
            "text/plain": [
              "dtype('int64')"
            ]
          },
          "metadata": {},
          "execution_count": 8
        }
      ],
      "source": [
        "myarray.dtype"
      ]
    },
    {
      "cell_type": "markdown",
      "metadata": {
        "id": "pOOza3_3mEbL"
      },
      "source": [
        "Depending on the content of the list, the array will have different types. But the logic of \"maximal complexity\" is kept. For example if we mix integers and floats, we get a float array:"
      ]
    },
    {
      "cell_type": "code",
      "execution_count": 9,
      "metadata": {
        "colab": {
          "base_uri": "https://localhost:8080/"
        },
        "id": "GMcSVAztmEbL",
        "outputId": "a088392a-d502-469c-ca72-71146643e6c7"
      },
      "outputs": [
        {
          "output_type": "execute_result",
          "data": {
            "text/plain": [
              "array([1.2, 6. , 7.6, 5. ])"
            ]
          },
          "metadata": {},
          "execution_count": 9
        }
      ],
      "source": [
        "myarray2 = np.array([1.2, 6, 7.6, 5])\n",
        "myarray2"
      ]
    },
    {
      "cell_type": "code",
      "execution_count": 10,
      "metadata": {
        "colab": {
          "base_uri": "https://localhost:8080/"
        },
        "id": "-GQuyuD7mEbL",
        "outputId": "1438812c-d50d-4dcd-9e80-d640e9346295"
      },
      "outputs": [
        {
          "output_type": "execute_result",
          "data": {
            "text/plain": [
              "dtype('float64')"
            ]
          },
          "metadata": {},
          "execution_count": 10
        }
      ],
      "source": [
        "myarray2.dtype"
      ]
    },
    {
      "cell_type": "markdown",
      "metadata": {
        "id": "7k-W673TmEbM"
      },
      "source": [
        "In general, we have the possibility to assign a type to an array. This is true here, as well as later when we'll create more complex arrays, and is done via the ```dtype``` option:"
      ]
    },
    {
      "cell_type": "code",
      "execution_count": 14,
      "metadata": {
        "colab": {
          "base_uri": "https://localhost:8080/"
        },
        "id": "3nmwlfWBmEbM",
        "outputId": "1cb64709-1387-4f79-930a-564d6e85f306"
      },
      "outputs": [
        {
          "output_type": "stream",
          "name": "stderr",
          "text": [
            "<ipython-input-14-c4f4c6455953>:1: DeprecationWarning: NumPy will stop allowing conversion of out-of-bound Python integers to integer arrays.  The conversion of 500 to uint8 will fail in the future.\n",
            "For the old behavior, usually:\n",
            "    np.array(value).astype(dtype)\n",
            "will give the desired result (the cast overflows).\n",
            "  myarray2 = np.array([1.2, 6, 7.6, 500], dtype=np.uint8)\n"
          ]
        },
        {
          "output_type": "execute_result",
          "data": {
            "text/plain": [
              "array([  1,   6,   7, 244], dtype=uint8)"
            ]
          },
          "metadata": {},
          "execution_count": 14
        }
      ],
      "source": [
        "myarray2 = np.array([1.2, 6, 7.6, 500], dtype=np.uint8)\n",
        "myarray2"
      ]
    },
    {
      "cell_type": "markdown",
      "metadata": {
        "id": "pGhinu7BmEbM"
      },
      "source": [
        "The type of the array can also be changed after creation using the ```.astype()``` method:"
      ]
    },
    {
      "cell_type": "code",
      "execution_count": 15,
      "metadata": {
        "colab": {
          "base_uri": "https://localhost:8080/"
        },
        "id": "jowk-5n3mEbM",
        "outputId": "a5d3080b-139a-492f-95c2-91be33ca5ddb"
      },
      "outputs": [
        {
          "output_type": "execute_result",
          "data": {
            "text/plain": [
              "dtype('float64')"
            ]
          },
          "metadata": {},
          "execution_count": 15
        }
      ],
      "source": [
        "myfloat_array = np.array([1.2, 6, 7.6, 500], dtype=np.float64)\n",
        "myfloat_array.dtype"
      ]
    },
    {
      "cell_type": "code",
      "execution_count": 16,
      "metadata": {
        "colab": {
          "base_uri": "https://localhost:8080/"
        },
        "id": "l1Nh6HaxmEbM",
        "outputId": "28316d51-ba7c-4776-808e-e2588e1acc51"
      },
      "outputs": [
        {
          "output_type": "execute_result",
          "data": {
            "text/plain": [
              "dtype('int8')"
            ]
          },
          "metadata": {},
          "execution_count": 16
        }
      ],
      "source": [
        "myint_array = myfloat_array.astype(np.int8)\n",
        "myint_array.dtype"
      ]
    },
    {
      "cell_type": "markdown",
      "metadata": {
        "id": "l5Gb16RtmEbN"
      },
      "source": [
        "### 1.1.2 Array shape\n",
        "\n",
        "A very important property of an array is its **shape** or in other words the dimensions of each axis. That property can be accessed via the ```.shape``` property:"
      ]
    },
    {
      "cell_type": "code",
      "execution_count": 17,
      "metadata": {
        "colab": {
          "base_uri": "https://localhost:8080/"
        },
        "id": "_97zj13BmEbN",
        "outputId": "67adb7c5-ca11-437a-e6ff-5b95ba510f9e"
      },
      "outputs": [
        {
          "output_type": "execute_result",
          "data": {
            "text/plain": [
              "array([2, 5, 3, 9, 5, 2])"
            ]
          },
          "metadata": {},
          "execution_count": 17
        }
      ],
      "source": [
        "myarray"
      ]
    },
    {
      "cell_type": "code",
      "execution_count": 18,
      "metadata": {
        "colab": {
          "base_uri": "https://localhost:8080/"
        },
        "id": "FFwlQpAgmEbN",
        "outputId": "71c0d14c-daf2-4361-c072-55ff1b4dd408"
      },
      "outputs": [
        {
          "output_type": "execute_result",
          "data": {
            "text/plain": [
              "(6,)"
            ]
          },
          "metadata": {},
          "execution_count": 18
        }
      ],
      "source": [
        "myarray.shape"
      ]
    },
    {
      "cell_type": "markdown",
      "metadata": {
        "id": "HUVl_TArmEbN"
      },
      "source": [
        "We see that our simple array has only one dimension of length 6. Now of course we can create more complex arrays. Let's create for example a *list of two lists*:"
      ]
    },
    {
      "cell_type": "code",
      "execution_count": 19,
      "metadata": {
        "colab": {
          "base_uri": "https://localhost:8080/"
        },
        "id": "r9_4iE64mEbO",
        "outputId": "b407e756-a95f-4685-f34e-c9ab6c8684e9"
      },
      "outputs": [
        {
          "output_type": "execute_result",
          "data": {
            "text/plain": [
              "array([[1, 2, 3],\n",
              "       [4, 5, 6]])"
            ]
          },
          "metadata": {},
          "execution_count": 19
        }
      ],
      "source": [
        "my2d_list = [[1,2,3], [4,5,6]]\n",
        "\n",
        "my2d_array = np.array(my2d_list)\n",
        "my2d_array"
      ]
    },
    {
      "cell_type": "code",
      "execution_count": 20,
      "metadata": {
        "colab": {
          "base_uri": "https://localhost:8080/"
        },
        "id": "II9JH4z_mEbO",
        "outputId": "7d953b9e-ce43-4df9-ca60-f81ccc5b8c3f"
      },
      "outputs": [
        {
          "output_type": "execute_result",
          "data": {
            "text/plain": [
              "(2, 3)"
            ]
          },
          "metadata": {},
          "execution_count": 20
        }
      ],
      "source": [
        "my2d_array.shape"
      ]
    },
    {
      "cell_type": "markdown",
      "metadata": {
        "id": "vP2FnXKcmEbO"
      },
      "source": [
        "## 1.2 Creating arrays\n",
        "\n",
        "We have seen that we can turn regular lists into arrays. However this becomes quickly impractical for larger arrays. Numpy offers several functions to create particular arrays."
      ]
    },
    {
      "cell_type": "markdown",
      "metadata": {
        "id": "VKs23wa4mEbP"
      },
      "source": [
        "### 1.2.1 Common simple arrays\n",
        "For example an array full of zeros or ones:"
      ]
    },
    {
      "cell_type": "code",
      "execution_count": 21,
      "metadata": {
        "colab": {
          "base_uri": "https://localhost:8080/"
        },
        "id": "QON5SLwQmEbP",
        "outputId": "27dec281-1726-4bf5-861c-f7f9c4f711b2"
      },
      "outputs": [
        {
          "output_type": "execute_result",
          "data": {
            "text/plain": [
              "array([[1., 1., 1.],\n",
              "       [1., 1., 1.]])"
            ]
          },
          "metadata": {},
          "execution_count": 21
        }
      ],
      "source": [
        "one_array = np.ones((2,3))\n",
        "one_array"
      ]
    },
    {
      "cell_type": "code",
      "execution_count": 22,
      "metadata": {
        "colab": {
          "base_uri": "https://localhost:8080/"
        },
        "id": "ur3wRo2MmEbP",
        "outputId": "1105afcc-dbbd-442b-d999-9e89fa3d2ca1"
      },
      "outputs": [
        {
          "output_type": "execute_result",
          "data": {
            "text/plain": [
              "array([[0., 0., 0.],\n",
              "       [0., 0., 0.]])"
            ]
          },
          "metadata": {},
          "execution_count": 22
        }
      ],
      "source": [
        "zero_array = np.zeros((2,3))\n",
        "zero_array"
      ]
    },
    {
      "cell_type": "markdown",
      "metadata": {
        "id": "I1nI5a-ymEbP"
      },
      "source": [
        "One can also create diagonal matrix:"
      ]
    },
    {
      "cell_type": "code",
      "execution_count": 23,
      "metadata": {
        "colab": {
          "base_uri": "https://localhost:8080/"
        },
        "id": "lIwd_MqgmEbP",
        "outputId": "c1105c0c-2ce8-4d8d-a58c-3f52c5b75607"
      },
      "outputs": [
        {
          "output_type": "execute_result",
          "data": {
            "text/plain": [
              "array([[1., 0., 0.],\n",
              "       [0., 1., 0.],\n",
              "       [0., 0., 1.]])"
            ]
          },
          "metadata": {},
          "execution_count": 23
        }
      ],
      "source": [
        "np.eye(3)"
      ]
    },
    {
      "cell_type": "markdown",
      "metadata": {
        "id": "9hgoNbAZmEbP"
      },
      "source": [
        "By default Numpy creates float arrays:"
      ]
    },
    {
      "cell_type": "code",
      "execution_count": 24,
      "metadata": {
        "colab": {
          "base_uri": "https://localhost:8080/"
        },
        "id": "USGcC3swmEbP",
        "outputId": "c0409587-b0b7-41d5-d4c9-91de74d0c8ab"
      },
      "outputs": [
        {
          "output_type": "execute_result",
          "data": {
            "text/plain": [
              "dtype('float64')"
            ]
          },
          "metadata": {},
          "execution_count": 24
        }
      ],
      "source": [
        "one_array.dtype"
      ]
    },
    {
      "cell_type": "markdown",
      "metadata": {
        "id": "_PuaXA5dmEbQ"
      },
      "source": [
        "However as mentioned before, one can impose a type usine the ```dtype``` option:"
      ]
    },
    {
      "cell_type": "code",
      "execution_count": 25,
      "metadata": {
        "colab": {
          "base_uri": "https://localhost:8080/"
        },
        "id": "j3ZlFyyjmEbQ",
        "outputId": "e6002b17-5f97-4c67-e8de-21304947eedc"
      },
      "outputs": [
        {
          "output_type": "execute_result",
          "data": {
            "text/plain": [
              "array([[1, 1, 1],\n",
              "       [1, 1, 1]], dtype=int8)"
            ]
          },
          "metadata": {},
          "execution_count": 25
        }
      ],
      "source": [
        "one_array_int = np.ones((2,3), dtype=np.int8)\n",
        "one_array_int"
      ]
    },
    {
      "cell_type": "code",
      "execution_count": 26,
      "metadata": {
        "colab": {
          "base_uri": "https://localhost:8080/"
        },
        "id": "LEx6f-TYmEbQ",
        "outputId": "19239f2f-7fe9-474b-9d75-ba59149b6ee3"
      },
      "outputs": [
        {
          "output_type": "execute_result",
          "data": {
            "text/plain": [
              "dtype('int8')"
            ]
          },
          "metadata": {},
          "execution_count": 26
        }
      ],
      "source": [
        "one_array_int.dtype"
      ]
    },
    {
      "cell_type": "markdown",
      "metadata": {
        "id": "TRPkgEfmmEbQ"
      },
      "source": [
        "### 1.2.2 Copying the shape\n",
        "Often one needs to create arrays of same shape. This can be done with \"like-functions\":"
      ]
    },
    {
      "cell_type": "code",
      "execution_count": 27,
      "metadata": {
        "colab": {
          "base_uri": "https://localhost:8080/"
        },
        "id": "ZOMOT4MPmEbQ",
        "outputId": "2656c889-3141-4870-8106-981937376ddf"
      },
      "outputs": [
        {
          "output_type": "execute_result",
          "data": {
            "text/plain": [
              "array([[0., 0., 0.],\n",
              "       [0., 0., 0.]])"
            ]
          },
          "metadata": {},
          "execution_count": 27
        }
      ],
      "source": [
        "same_shape_array = np.zeros_like(one_array)\n",
        "same_shape_array"
      ]
    },
    {
      "cell_type": "code",
      "execution_count": 28,
      "metadata": {
        "colab": {
          "base_uri": "https://localhost:8080/"
        },
        "id": "XRuTGcGvmEbR",
        "outputId": "7ba49f82-4538-4ba3-90d7-0593fed54bd7"
      },
      "outputs": [
        {
          "output_type": "execute_result",
          "data": {
            "text/plain": [
              "(2, 3)"
            ]
          },
          "metadata": {},
          "execution_count": 28
        }
      ],
      "source": [
        "one_array.shape"
      ]
    },
    {
      "cell_type": "code",
      "execution_count": 29,
      "metadata": {
        "colab": {
          "base_uri": "https://localhost:8080/"
        },
        "id": "DAOlc9pVmEbR",
        "outputId": "218e90c1-d7cd-41fd-9fd6-c65d56635163"
      },
      "outputs": [
        {
          "output_type": "execute_result",
          "data": {
            "text/plain": [
              "(2, 3)"
            ]
          },
          "metadata": {},
          "execution_count": 29
        }
      ],
      "source": [
        "same_shape_array.shape"
      ]
    },
    {
      "cell_type": "code",
      "execution_count": 30,
      "metadata": {
        "colab": {
          "base_uri": "https://localhost:8080/"
        },
        "id": "ehsTmCNmmEbR",
        "outputId": "51614681-9cd4-458e-f385-ebd819c06de6"
      },
      "outputs": [
        {
          "output_type": "execute_result",
          "data": {
            "text/plain": [
              "array([[1., 1., 1.],\n",
              "       [1., 1., 1.]])"
            ]
          },
          "metadata": {},
          "execution_count": 30
        }
      ],
      "source": [
        "np.ones_like(one_array)"
      ]
    },
    {
      "cell_type": "markdown",
      "metadata": {
        "id": "ekMeNJyNmEbR"
      },
      "source": [
        "### 1.2.3 Complex arrays\n",
        "\n",
        "We are not limited to create arrays containing ones or zeros. Very common operations involve e.g. the creation of arrays containing regularly arrange numbers. For example a \"from-to-by-step\" list:"
      ]
    },
    {
      "cell_type": "code",
      "execution_count": 31,
      "metadata": {
        "colab": {
          "base_uri": "https://localhost:8080/"
        },
        "id": "WmGBLckNmEbR",
        "outputId": "66dd2da8-cdbc-4f38-d121-5fd36f6c7d5d"
      },
      "outputs": [
        {
          "output_type": "execute_result",
          "data": {
            "text/plain": [
              "array([0, 2, 4, 6, 8])"
            ]
          },
          "metadata": {},
          "execution_count": 31
        }
      ],
      "source": [
        "np.arange(0, 10, 2)"
      ]
    },
    {
      "cell_type": "markdown",
      "metadata": {
        "id": "LP-Nnp43mEbR"
      },
      "source": [
        "Or equidistant numbers between boundaries:"
      ]
    },
    {
      "cell_type": "code",
      "execution_count": 32,
      "metadata": {
        "colab": {
          "base_uri": "https://localhost:8080/"
        },
        "id": "mnROh1sYmEbR",
        "outputId": "deabaef4-69d1-411f-bfbf-05ba0d40d295"
      },
      "outputs": [
        {
          "output_type": "execute_result",
          "data": {
            "text/plain": [
              "array([0.        , 0.11111111, 0.22222222, 0.33333333, 0.44444444,\n",
              "       0.55555556, 0.66666667, 0.77777778, 0.88888889, 1.        ])"
            ]
          },
          "metadata": {},
          "execution_count": 32
        }
      ],
      "source": [
        "np.linspace(0,1, 10)"
      ]
    },
    {
      "cell_type": "markdown",
      "metadata": {
        "id": "UWGNRxuomEbS"
      },
      "source": [
        "Numpy offers in particular a ```random``` submodules that allows one to create arrays containing values from a wide array of distributions. For example, normally distributed:"
      ]
    },
    {
      "cell_type": "code",
      "execution_count": 33,
      "metadata": {
        "colab": {
          "base_uri": "https://localhost:8080/"
        },
        "id": "4DAoNQrymEbS",
        "outputId": "eec126cb-316e-44da-a76e-fbd1bdf4485f"
      },
      "outputs": [
        {
          "output_type": "execute_result",
          "data": {
            "text/plain": [
              "array([[ 9.03461165, 11.58595637, 13.34457731,  7.56763732],\n",
              "       [ 8.09101495, 12.60317192,  9.53187494, 11.11227317],\n",
              "       [ 9.02548536, 11.91043179,  5.39469341,  8.6446162 ]])"
            ]
          },
          "metadata": {},
          "execution_count": 33
        }
      ],
      "source": [
        "normal_array = np.random.normal(loc=10, scale=2, size=(3,4))\n",
        "normal_array"
      ]
    },
    {
      "cell_type": "code",
      "execution_count": 34,
      "metadata": {
        "colab": {
          "base_uri": "https://localhost:8080/"
        },
        "id": "J9uZdxFOmEbS",
        "outputId": "b35c12c9-0e3a-4e9f-8e5e-bbeef305859e"
      },
      "outputs": [
        {
          "output_type": "execute_result",
          "data": {
            "text/plain": [
              "array([[7, 3, 4, 5],\n",
              "       [4, 9, 8, 2],\n",
              "       [3, 6, 5, 5]])"
            ]
          },
          "metadata": {},
          "execution_count": 34
        }
      ],
      "source": [
        "np.random.poisson(lam=5, size=(3,4))"
      ]
    },
    {
      "cell_type": "markdown",
      "metadata": {
        "id": "V1psbJsamEbT"
      },
      "source": [
        "## 1.3 Importing arrays\n",
        "\n",
        "We have seen until now multiple ways to create arrays. However, most of the time, you will *import* data from some source, either directly as arrays or as lists, and use these data in your analysis."
      ]
    },
    {
      "cell_type": "markdown",
      "metadata": {
        "id": "pxNy1WWDmEbT"
      },
      "source": [
        "### 1.3.1 Loading and saving arrays\n",
        "\n",
        "Numpy can efficiently save and load arrays in its own format ```.npy```. Let's create an array and save it:"
      ]
    },
    {
      "cell_type": "code",
      "execution_count": 35,
      "metadata": {
        "colab": {
          "base_uri": "https://localhost:8080/"
        },
        "id": "_zuLiIwTmEbT",
        "outputId": "85ee3eb8-846b-449c-b759-92ec09daca60"
      },
      "outputs": [
        {
          "output_type": "execute_result",
          "data": {
            "text/plain": [
              "array([[11.2672958 , 10.80128516,  9.25369601, 10.43673572,  7.93992607],\n",
              "       [ 9.94574123, 11.1368176 ,  7.98232315,  8.2366285 ,  9.37260537],\n",
              "       [ 7.61799126,  7.9729744 , 11.01532775, 12.50595777, 12.78965523],\n",
              "       [ 7.14478061,  7.72254603,  6.40955259,  9.93515845,  8.26287727]])"
            ]
          },
          "metadata": {},
          "execution_count": 35
        }
      ],
      "source": [
        "array_to_save = np.random.normal(10, 2, (4,5))\n",
        "array_to_save"
      ]
    },
    {
      "cell_type": "code",
      "execution_count": 36,
      "metadata": {
        "id": "kg-88zYymEbU"
      },
      "outputs": [],
      "source": [
        "np.save('my_saved_array.npy', array_to_save)"
      ]
    },
    {
      "cell_type": "code",
      "execution_count": 37,
      "metadata": {
        "colab": {
          "base_uri": "https://localhost:8080/"
        },
        "id": "c6kXh5DlmEbU",
        "outputId": "6f8350ad-691a-4eb2-c017-0353ed030336"
      },
      "outputs": [
        {
          "output_type": "stream",
          "name": "stdout",
          "text": [
            "my_saved_array.npy  \u001b[0m\u001b[01;34msample_data\u001b[0m/\n"
          ]
        }
      ],
      "source": [
        "ls"
      ]
    },
    {
      "cell_type": "markdown",
      "metadata": {
        "id": "dGBbeTNJmEbU"
      },
      "source": [
        "Now that this array is saved on disk, we can load it again using ```np.load```:"
      ]
    },
    {
      "cell_type": "code",
      "execution_count": 38,
      "metadata": {
        "colab": {
          "base_uri": "https://localhost:8080/"
        },
        "id": "PkaHaJ1rmEbU",
        "outputId": "d6aa2bcc-05b3-4b7b-c034-4ce8a2756ced"
      },
      "outputs": [
        {
          "output_type": "execute_result",
          "data": {
            "text/plain": [
              "array([[11.2672958 , 10.80128516,  9.25369601, 10.43673572,  7.93992607],\n",
              "       [ 9.94574123, 11.1368176 ,  7.98232315,  8.2366285 ,  9.37260537],\n",
              "       [ 7.61799126,  7.9729744 , 11.01532775, 12.50595777, 12.78965523],\n",
              "       [ 7.14478061,  7.72254603,  6.40955259,  9.93515845,  8.26287727]])"
            ]
          },
          "metadata": {},
          "execution_count": 38
        }
      ],
      "source": [
        "new_array = np.load('my_saved_array.npy')\n",
        "new_array"
      ]
    },
    {
      "cell_type": "markdown",
      "metadata": {
        "id": "QOe_DIt5mEbU"
      },
      "source": [
        "If you have several arrays that belong together, you can also save them in a single file using ```np.savez``` in ```npz``` format. Let's create a second array:"
      ]
    },
    {
      "cell_type": "code",
      "execution_count": 39,
      "metadata": {
        "colab": {
          "base_uri": "https://localhost:8080/"
        },
        "id": "F38ZE3MumEbU",
        "outputId": "caf9209d-b90c-42dc-d120-21dedf806b01"
      },
      "outputs": [
        {
          "output_type": "execute_result",
          "data": {
            "text/plain": [
              "array([[ 9.15023676, 10.32382273]])"
            ]
          },
          "metadata": {},
          "execution_count": 39
        }
      ],
      "source": [
        "array_to_save2 = np.random.normal(10, 2, (1,2))\n",
        "array_to_save2"
      ]
    },
    {
      "cell_type": "code",
      "execution_count": 40,
      "metadata": {
        "id": "NeZ9ENfQmEbV"
      },
      "outputs": [],
      "source": [
        "np.savez('multiple_arrays.npz', array_to_save=array_to_save, array_to_save2=array_to_save2)"
      ]
    },
    {
      "cell_type": "code",
      "execution_count": 41,
      "metadata": {
        "colab": {
          "base_uri": "https://localhost:8080/"
        },
        "id": "8vglHs8jmEbV",
        "outputId": "cc30645b-297b-4dce-cf3d-e1e2242ff02a"
      },
      "outputs": [
        {
          "output_type": "stream",
          "name": "stdout",
          "text": [
            "multiple_arrays.npz  my_saved_array.npy  \u001b[0m\u001b[01;34msample_data\u001b[0m/\n"
          ]
        }
      ],
      "source": [
        "ls"
      ]
    },
    {
      "cell_type": "markdown",
      "metadata": {
        "id": "N7vQimVpmEbV"
      },
      "source": [
        "And when we load it again:"
      ]
    },
    {
      "cell_type": "code",
      "execution_count": 42,
      "metadata": {
        "colab": {
          "base_uri": "https://localhost:8080/",
          "height": 204
        },
        "id": "y9efkl2lmEbV",
        "outputId": "3a261ab8-a5cf-4984-d5a8-5bd4ec543621"
      },
      "outputs": [
        {
          "output_type": "execute_result",
          "data": {
            "text/plain": [
              "numpy.lib.npyio.NpzFile"
            ],
            "text/html": [
              "<div style=\"max-width:800px; border: 1px solid var(--colab-border-color);\"><style>\n",
              "      pre.function-repr-contents {\n",
              "        overflow-x: auto;\n",
              "        padding: 8px 12px;\n",
              "        max-height: 500px;\n",
              "      }\n",
              "\n",
              "      pre.function-repr-contents.function-repr-contents-collapsed {\n",
              "        cursor: pointer;\n",
              "        max-height: 100px;\n",
              "      }\n",
              "    </style>\n",
              "    <pre style=\"white-space: initial; background:\n",
              "         var(--colab-secondary-surface-color); padding: 8px 12px;\n",
              "         border-bottom: 1px solid var(--colab-border-color);\"><b>numpy.lib.npyio.NpzFile</b><br/>def __init__(fid, own_fid=False, allow_pickle=False, pickle_kwargs=None, *, max_header_size=format._MAX_HEADER_SIZE)</pre><pre class=\"function-repr-contents function-repr-contents-collapsed\" style=\"\"><a class=\"filepath\" style=\"display:none\" href=\"#\">/usr/local/lib/python3.10/dist-packages/numpy/lib/npyio.py</a>NpzFile(fid)\n",
              "\n",
              "A dictionary-like object with lazy-loading of files in the zipped\n",
              "archive provided on construction.\n",
              "\n",
              "`NpzFile` is used to load files in the NumPy ``.npz`` data archive\n",
              "format. It assumes that files in the archive have a ``.npy`` extension,\n",
              "other files are ignored.\n",
              "\n",
              "The arrays and file strings are lazily loaded on either\n",
              "getitem access using ``obj[&#x27;key&#x27;]`` or attribute lookup using\n",
              "``obj.f.key``. A list of all files (without ``.npy`` extensions) can\n",
              "be obtained with ``obj.files`` and the ZipFile object itself using\n",
              "``obj.zip``.\n",
              "\n",
              "Attributes\n",
              "----------\n",
              "files : list of str\n",
              "    List of all files in the archive with a ``.npy`` extension.\n",
              "zip : ZipFile instance\n",
              "    The ZipFile object initialized with the zipped archive.\n",
              "f : BagObj instance\n",
              "    An object on which attribute can be performed as an alternative\n",
              "    to getitem access on the `NpzFile` instance itself.\n",
              "allow_pickle : bool, optional\n",
              "    Allow loading pickled data. Default: False\n",
              "\n",
              "    .. versionchanged:: 1.16.3\n",
              "        Made default False in response to CVE-2019-6446.\n",
              "\n",
              "pickle_kwargs : dict, optional\n",
              "    Additional keyword arguments to pass on to pickle.load.\n",
              "    These are only useful when loading object arrays saved on\n",
              "    Python 2 when using Python 3.\n",
              "max_header_size : int, optional\n",
              "    Maximum allowed size of the header.  Large headers may not be safe\n",
              "    to load securely and thus require explicitly passing a larger value.\n",
              "    See :py:func:`ast.literal_eval()` for details.\n",
              "    This option is ignored when `allow_pickle` is passed.  In that case\n",
              "    the file is by definition trusted and the limit is unnecessary.\n",
              "\n",
              "Parameters\n",
              "----------\n",
              "fid : file or str\n",
              "    The zipped archive to open. This is either a file-like object\n",
              "    or a string containing the path to the archive.\n",
              "own_fid : bool, optional\n",
              "    Whether NpzFile should close the file handle.\n",
              "    Requires that `fid` is a file-like object.\n",
              "\n",
              "Examples\n",
              "--------\n",
              "&gt;&gt;&gt; from tempfile import TemporaryFile\n",
              "&gt;&gt;&gt; outfile = TemporaryFile()\n",
              "&gt;&gt;&gt; x = np.arange(10)\n",
              "&gt;&gt;&gt; y = np.sin(x)\n",
              "&gt;&gt;&gt; np.savez(outfile, x=x, y=y)\n",
              "&gt;&gt;&gt; _ = outfile.seek(0)\n",
              "\n",
              "&gt;&gt;&gt; npz = np.load(outfile)\n",
              "&gt;&gt;&gt; isinstance(npz, np.lib.npyio.NpzFile)\n",
              "True\n",
              "&gt;&gt;&gt; npz\n",
              "NpzFile &#x27;object&#x27; with keys x, y\n",
              "&gt;&gt;&gt; sorted(npz.files)\n",
              "[&#x27;x&#x27;, &#x27;y&#x27;]\n",
              "&gt;&gt;&gt; npz[&#x27;x&#x27;]  # getitem access\n",
              "array([0, 1, 2, 3, 4, 5, 6, 7, 8, 9])\n",
              "&gt;&gt;&gt; npz.f.x  # attribute lookup\n",
              "array([0, 1, 2, 3, 4, 5, 6, 7, 8, 9])</pre>\n",
              "      <script>\n",
              "      if (google.colab.kernel.accessAllowed && google.colab.files && google.colab.files.view) {\n",
              "        for (const element of document.querySelectorAll('.filepath')) {\n",
              "          element.style.display = 'block'\n",
              "          element.onclick = (event) => {\n",
              "            event.preventDefault();\n",
              "            event.stopPropagation();\n",
              "            google.colab.files.view(element.textContent, 106);\n",
              "          };\n",
              "        }\n",
              "      }\n",
              "      for (const element of document.querySelectorAll('.function-repr-contents')) {\n",
              "        element.onclick = (event) => {\n",
              "          event.preventDefault();\n",
              "          event.stopPropagation();\n",
              "          element.classList.toggle('function-repr-contents-collapsed');\n",
              "        };\n",
              "      }\n",
              "      </script>\n",
              "      </div>"
            ]
          },
          "metadata": {},
          "execution_count": 42
        }
      ],
      "source": [
        "load_multiple = np.load('multiple_arrays.npz')\n",
        "type(load_multiple)"
      ]
    },
    {
      "cell_type": "markdown",
      "metadata": {
        "id": "sL-uQzyqmEbW"
      },
      "source": [
        "We get here an ```NpzFile``` *object* from which we can read our data. Note that when we load an ```npz``` file, it is only loaded *lazily*, i.e. data are not actually read, but the content is parsed. This is very useful if you need to store large amounts of data but don't always need to re-load all of them. We can use methods to actually access the data:"
      ]
    },
    {
      "cell_type": "code",
      "execution_count": 43,
      "metadata": {
        "colab": {
          "base_uri": "https://localhost:8080/"
        },
        "id": "ulhG0DnMmEbW",
        "outputId": "60a4c479-c296-4e25-d659-aadd9849c727"
      },
      "outputs": [
        {
          "output_type": "execute_result",
          "data": {
            "text/plain": [
              "['array_to_save', 'array_to_save2']"
            ]
          },
          "metadata": {},
          "execution_count": 43
        }
      ],
      "source": [
        "load_multiple.files"
      ]
    },
    {
      "cell_type": "code",
      "execution_count": 44,
      "metadata": {
        "colab": {
          "base_uri": "https://localhost:8080/"
        },
        "id": "WcBalN1UmEbW",
        "outputId": "2e318bf1-d6c7-48cf-8128-70b73cd0bc26"
      },
      "outputs": [
        {
          "output_type": "execute_result",
          "data": {
            "text/plain": [
              "array([[ 9.15023676, 10.32382273]])"
            ]
          },
          "metadata": {},
          "execution_count": 44
        }
      ],
      "source": [
        "load_multiple.get('array_to_save2')"
      ]
    },
    {
      "cell_type": "markdown",
      "metadata": {
        "id": "kOa7-0f8mEbW"
      },
      "source": [
        "### 1.3.2 Importing data as arrays\n",
        "\n",
        "Images are a typical example of data that are array-like (matrix of pixels) and that can be imported directly as arrays. Of course, each domain will have it's own *importing libraries*. For example in the area of imaging, the scikit-image package is one of the main libraries, and it offers and importer of images as arrays which works both with local files and web addresses:"
      ]
    },
    {
      "cell_type": "code",
      "execution_count": 45,
      "metadata": {
        "id": "Jzuf5ltAmEbW"
      },
      "outputs": [],
      "source": [
        "import skimage.io\n",
        "\n",
        "image = skimage.io.imread('https://upload.wikimedia.org/wikipedia/commons/f/fd/%27%C3%9Cbermut_Exub%C3%A9rance%27_by_Paul_Klee%2C_1939.jpg')"
      ]
    },
    {
      "cell_type": "markdown",
      "metadata": {
        "id": "h_ew_To3mEbW"
      },
      "source": [
        "We can briefly explore that image:"
      ]
    },
    {
      "cell_type": "code",
      "execution_count": 46,
      "metadata": {
        "colab": {
          "base_uri": "https://localhost:8080/"
        },
        "id": "1l2uk-2omEbW",
        "outputId": "65f9206b-9b87-4046-dd64-5905a8df71e3"
      },
      "outputs": [
        {
          "output_type": "execute_result",
          "data": {
            "text/plain": [
              "numpy.ndarray"
            ]
          },
          "metadata": {},
          "execution_count": 46
        }
      ],
      "source": [
        "type(image)"
      ]
    },
    {
      "cell_type": "code",
      "execution_count": 47,
      "metadata": {
        "colab": {
          "base_uri": "https://localhost:8080/"
        },
        "id": "RhyoDz7SmEbX",
        "outputId": "c6a69795-4ee3-4a8b-ea66-818d155f2891"
      },
      "outputs": [
        {
          "output_type": "execute_result",
          "data": {
            "text/plain": [
              "dtype('uint8')"
            ]
          },
          "metadata": {},
          "execution_count": 47
        }
      ],
      "source": [
        "image.dtype"
      ]
    },
    {
      "cell_type": "code",
      "execution_count": 48,
      "metadata": {
        "colab": {
          "base_uri": "https://localhost:8080/"
        },
        "id": "I-41HV12mEbX",
        "outputId": "53aad81d-fb19-47b2-bb2d-67296081aabd"
      },
      "outputs": [
        {
          "output_type": "execute_result",
          "data": {
            "text/plain": [
              "(584, 756, 3)"
            ]
          },
          "metadata": {},
          "execution_count": 48
        }
      ],
      "source": [
        "image.shape"
      ]
    },
    {
      "cell_type": "markdown",
      "metadata": {
        "id": "w8HYzhCrmEbX"
      },
      "source": [
        "We see that we have an array of integeres with 3 dimensions. Since we imported a jpg image, we know that the thrid dimension corresponds to three color channels Red, Green, Blue (RGB)."
      ]
    },
    {
      "cell_type": "markdown",
      "metadata": {
        "id": "PxeLetm_mEbX"
      },
      "source": [
        "You can also read regular CSV files directly as Numpy arrays. This is more commonly done using Pandas, so we don't spend much time on this, but here is an example on importing data from the web:"
      ]
    },
    {
      "cell_type": "code",
      "execution_count": 49,
      "metadata": {
        "id": "6r4t0ko0mEbX"
      },
      "outputs": [],
      "source": [
        "oilprice = np.loadtxt('https://raw.githubusercontent.com/guiwitz/Rdatasets/master/csv/quantreg/gasprice.csv',\n",
        "          delimiter=',', usecols=range(2,3), skiprows=1)"
      ]
    },
    {
      "cell_type": "code",
      "execution_count": 50,
      "metadata": {
        "colab": {
          "base_uri": "https://localhost:8080/"
        },
        "id": "o51XnCknmEbX",
        "outputId": "60cb57bc-c9f2-4083-9790-e245c062f252"
      },
      "outputs": [
        {
          "output_type": "execute_result",
          "data": {
            "text/plain": [
              "array([126.6, 127.2, 132.1, 133.3, 133.9, 134.5, 133.9, 133.4, 132.8,\n",
              "       132.3, 131.1, 134.1, 119.2, 116.8, 113.9, 110.6, 107.8, 105.4,\n",
              "       102.5, 104.5, 104.3, 104.7, 105.2, 106.6, 106.9, 109. , 110.4,\n",
              "       111.3, 112.1, 112.9, 114. , 113.8, 113.5, 112.6, 111.4, 110.4,\n",
              "       109.8, 109.4, 109.1, 109.1, 109.9, 111.2, 112.4, 112.4, 112.7,\n",
              "       112. , 111. , 109.7, 109.2, 108.9, 108.4, 108.8, 109.1, 109.1,\n",
              "       110.2, 110.4, 109.9, 109.9, 109.1, 107.5, 106.3, 105.3, 104.2,\n",
              "       102.6, 101.4, 100.6,  99.5, 100.4, 101.1, 101.4, 101.2, 101.3,\n",
              "       101. , 101.5, 101.3, 102.6, 105.1, 105.8, 107.2, 108.9, 110.2,\n",
              "       111.8, 112. , 112.8, 114.3, 115.1, 115.3, 114.9, 114.7, 113.9,\n",
              "       113.2, 112.8, 112.6, 112.3, 111.6, 112.3, 112.1, 112.1, 112.4,\n",
              "       112.3, 111.8, 111.5, 111.5, 111.3, 111.3, 112. , 112. , 111.2,\n",
              "       110.6, 109.8, 108.9, 107.8, 107.4, 106.9, 106.5, 106.6, 106.1,\n",
              "       105.5, 105.5, 106.2, 105.3, 104.7, 104.2, 104.8, 105.8, 105.6,\n",
              "       105.7, 106.8, 107.9, 107.9, 108.6, 108.6, 109.7, 110.6, 110.6,\n",
              "       110.7, 110.4, 110.1, 109.5, 108.9, 108.6, 108.1, 107.5, 106.9,\n",
              "       106.2, 106. , 105.9, 106.5, 106.2, 105.5, 105.1, 104.5, 104.7,\n",
              "       109.2, 109. , 109.3, 109.2, 108.4, 107.5, 106.4, 105.8, 105.1,\n",
              "       103.6, 101.8, 100.3,  99.9,  99.2,  99.5, 100.1,  99.9, 100.5,\n",
              "       100.7, 101.6, 100.9, 100.4, 100.7, 100.5, 100.7, 101.2, 101.1,\n",
              "       102.8, 103.3, 103.7, 104. , 104.5, 104.6, 105. , 105.6, 106.5,\n",
              "       107.3, 107.9, 109.5, 109.7, 110.3, 110.9, 111.4, 113. , 115.7,\n",
              "       116.1, 116.5, 116.1, 115.6, 115. , 114. , 112.9, 112. , 111.4,\n",
              "       110.6, 110.7, 112.1, 112.3, 112.2, 111.3, 108.2, 107.5, 106.4,\n",
              "       105.6, 104.4, 106.3, 107. , 106.2, 106.8, 106.8, 106.2, 105.8,\n",
              "       105.2, 106. , 106.3, 105.6, 105.5, 106.3, 107.7, 109.4, 111. ,\n",
              "       113.3, 114.1, 116.4, 117.3, 119.1, 119.3, 119.4, 119. , 118.3,\n",
              "       117.7, 116.9, 115.9, 114.8, 113.8, 112.6, 112.4, 112.1, 112.2,\n",
              "       111.3, 111.1, 110.7, 110.6, 110.6, 110. , 109.2, 108.1, 107.3,\n",
              "       106.2, 106. , 105.9, 105.6, 105.7, 105.8, 105.7, 107.2, 107.5,\n",
              "       107.7, 108.6, 109.2, 108.4, 107.9, 107.6, 107.3, 107.8, 109.9,\n",
              "       111.5, 111.6, 112.8, 115.8, 117.2, 119.5, 123.4, 124.3, 125.7,\n",
              "       125.9, 126.2, 126.9, 126. , 125.2, 124.7, 124.1, 123. , 121.9,\n",
              "       121.7, 121.5, 121.5, 120.9, 119.9, 119.6, 119.9, 120.1, 119.3,\n",
              "       120.1, 120.3, 120.3, 119.9, 119.1, 120.3, 120.5, 121.7, 122.5,\n",
              "       122.9, 123.8, 124.6, 124.2, 124.1, 123.3, 122.7, 122.4, 122. ,\n",
              "       123.5, 123.6, 123.2, 123. , 122.7, 122. , 121.7, 120.8, 119.9,\n",
              "       119.1, 119.6, 119.1, 119.2, 118.7, 118.8, 118.5, 118.2, 118.2,\n",
              "       119.5, 120.4, 120.6, 119.8, 118.9, 117.9, 117.1, 116.9, 116.5,\n",
              "       117. , 116.4, 118.5, 121.9, 121.8, 123. , 122.9, 122.7, 121.9,\n",
              "       120.8, 119.5, 119.5, 118.7, 117.8, 116.8, 116.3, 116.4, 115.6,\n",
              "       115. , 114. , 112.8, 111.8, 110.8, 109.9, 108.9, 108.3, 107.2,\n",
              "       105.5, 105.1, 104.5, 103.2, 103.8, 102.5, 101.7, 100.6,  99.8,\n",
              "       102.6, 102.3, 101.8, 102.1, 103.2, 103.8, 105.2, 105.5, 105.2,\n",
              "       104.7, 106. , 104.9, 104.1, 104.2, 104.1, 103.7, 104.4, 103.5,\n",
              "       102.3, 101.8, 101.1, 100.4,  99.8,  99.1,  98.7,  99.9,  99.9,\n",
              "       100.6, 101. , 100.7, 100.1,  99.7,  99.4,  98.1,  97.1,  95.4,\n",
              "        93.3,  92.3,  92.1,  91.4,  91.3,  92. ,  92.1,  91.3,  90.8,\n",
              "        90.7,  89.9,  88.5,  89.1,  90. ,  95.8,  99.9, 105.5, 108.7,\n",
              "       110.7, 110.3, 109.9, 110.7, 110.9, 111.2, 110.1, 108.8, 109.2,\n",
              "       108.8, 110.5, 109.5, 111. , 112.3, 114.8, 117.2, 117.2, 118.3,\n",
              "       121.4, 121.2, 121.4, 122.3, 123.4, 125.2, 124.8, 124.2, 123.4,\n",
              "       122. , 122.5, 121.8, 122.2, 124. , 125.8, 126.2, 126. , 126.3,\n",
              "       125.7, 126.3, 126. , 125.2, 126.8, 130.7, 130.7, 131.9, 135. ,\n",
              "       140. , 141.3, 149. , 151.1, 150.8, 148.4, 147.8, 144.7, 141.5,\n",
              "       140.6, 138.6, 142.7, 146.6, 149.4, 150.9, 153.5, 160.7, 166.4,\n",
              "       164.1, 160.6, 157.1, 152.1, 149.9, 144.7, 143.7, 142. , 144.4,\n",
              "       145.6, 150.2, 153.5, 153.9, 152.5, 149.8, 147.3, 151.6, 153.2,\n",
              "       152.3, 150.2, 150.1, 148.7, 148.9, 146.4, 142.5, 139.6, 138.8,\n",
              "       137.7, 140. , 145.8, 145.6, 144.6, 142.6, 146. , 142.9, 141. ,\n",
              "       139.3, 138.7, 137.7, 137.9, 141.1, 146.9, 153.5, 158.6, 158.5,\n",
              "       165.9, 166.3, 163.7, 165.6, 163. , 158. , 152.6, 145.4, 138.4,\n",
              "       135. , 133. , 131.8, 131.9, 131.9, 134.7, 139.9, 148. , 153.8,\n",
              "       151.1, 151.6, 146. , 138.1, 131. , 126.4, 122.1, 119.3, 117. ,\n",
              "       114.7, 114. , 109.7, 108.4, 107.5, 104.2, 106.3, 109.6, 110.9,\n",
              "       109.9, 108.7, 108.1, 109.8, 108.5, 108.9, 108.7, 111.8, 119.4,\n",
              "       126.2, 130.8, 133.9, 138.2, 136.8, 136.7, 135.3, 135.6, 134.9,\n",
              "       136. , 134.8, 135.3, 133.2, 133.5, 134.2, 135.7, 134.5, 136.1,\n",
              "       138.1, 137.6, 135.5, 135.5, 135.7, 136.5, 135.3, 135.5, 136.7,\n",
              "       135.7, 138.5, 141.6, 142.2, 144.3, 142.7, 142.7, 140.6, 137. ,\n",
              "       133.6, 131.6, 131.6, 132.2, 137.1, 141.7, 141.2, 142.3, 142.2,\n",
              "       143.7, 149.9, 158.2, 163. , 161.7, 164.1, 166.3, 167.3, 162.6,\n",
              "       157.7, 155.7, 152.1, 150.4, 148.6, 144.1, 142.7, 144.4, 143.9,\n",
              "       142.8, 145.6, 148. , 145.1, 144.3, 144.8, 148.9, 149.6, 148.8,\n",
              "       151.6, 155. , 159.4, 169.3, 168.8, 165.3, 163.6, 158. , 152.4,\n",
              "       151.1, 151.5, 152.7, 149.9, 149.4, 146.4, 145.9, 147.8, 145.4,\n",
              "       144.1, 143.3, 145.9, 145.4, 149.2, 154.4, 157.9, 160.4, 159.1,\n",
              "       160.9, 161.7])"
            ]
          },
          "metadata": {},
          "execution_count": 50
        }
      ],
      "source": [
        "oilprice"
      ]
    },
    {
      "cell_type": "code",
      "execution_count": null,
      "metadata": {
        "id": "e1gitX1QmEbY"
      },
      "outputs": [],
      "source": []
    }
  ],
  "metadata": {
    "kernelspec": {
      "display_name": "Python 3",
      "language": "python",
      "name": "python3"
    },
    "language_info": {
      "codemirror_mode": {
        "name": "ipython",
        "version": 3
      },
      "file_extension": ".py",
      "mimetype": "text/x-python",
      "name": "python",
      "nbconvert_exporter": "python",
      "pygments_lexer": "ipython3",
      "version": "3.8.2"
    },
    "nteract": {
      "version": "0.23.1"
    },
    "toc": {
      "base_numbering": 1,
      "nav_menu": {},
      "number_sections": false,
      "sideBar": true,
      "skip_h1_title": false,
      "title_cell": "Table of Contents",
      "title_sidebar": "Contents",
      "toc_cell": false,
      "toc_position": {},
      "toc_section_display": true,
      "toc_window_display": true
    },
    "colab": {
      "provenance": []
    }
  },
  "nbformat": 4,
  "nbformat_minor": 0
}