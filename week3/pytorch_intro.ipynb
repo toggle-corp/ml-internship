{
 "cells": [
  {
   "cell_type": "code",
   "execution_count": 1,
   "metadata": {},
   "outputs": [],
   "source": [
    "import torch\n",
    "import numpy as np\n",
    "import matplotlib.pyplot as plt\n",
    "\n",
    "%matplotlib inline"
   ]
  },
  {
   "cell_type": "markdown",
   "metadata": {},
   "source": [
    "## With torch, we can create and process tensors"
   ]
  },
  {
   "cell_type": "code",
   "execution_count": 2,
   "metadata": {},
   "outputs": [
    {
     "data": {
      "text/plain": [
       "tensor(4.)"
      ]
     },
     "execution_count": 2,
     "metadata": {},
     "output_type": "execute_result"
    }
   ],
   "source": [
    "# Create a number\n",
    "tensor1 = torch.tensor(4.)\n",
    "tensor1"
   ]
  },
  {
   "cell_type": "code",
   "execution_count": 3,
   "metadata": {},
   "outputs": [
    {
     "data": {
      "text/plain": [
       "torch.float32"
      ]
     },
     "execution_count": 3,
     "metadata": {},
     "output_type": "execute_result"
    }
   ],
   "source": [
    "tensor1.dtype # get the type of tensor"
   ]
  },
  {
   "cell_type": "code",
   "execution_count": 4,
   "metadata": {},
   "outputs": [
    {
     "data": {
      "text/plain": [
       "tensor([2., 3., 6., 9.])"
      ]
     },
     "execution_count": 4,
     "metadata": {},
     "output_type": "execute_result"
    }
   ],
   "source": [
    "# Create a vector\n",
    "tensor2 = torch.tensor([2., 3., 6., 9.])\n",
    "tensor2"
   ]
  },
  {
   "cell_type": "code",
   "execution_count": 5,
   "metadata": {},
   "outputs": [
    {
     "data": {
      "text/plain": [
       "torch.float32"
      ]
     },
     "execution_count": 5,
     "metadata": {},
     "output_type": "execute_result"
    }
   ],
   "source": [
    "tensor2.dtype"
   ]
  },
  {
   "cell_type": "code",
   "execution_count": 6,
   "metadata": {},
   "outputs": [
    {
     "data": {
      "text/plain": [
       "tensor([2., 9., 3.], dtype=torch.float64)"
      ]
     },
     "execution_count": 6,
     "metadata": {},
     "output_type": "execute_result"
    }
   ],
   "source": [
    "tensor3 = torch.tensor([2., 9., 3.], dtype=torch.float64)\n",
    "tensor3"
   ]
  },
  {
   "cell_type": "code",
   "execution_count": 7,
   "metadata": {},
   "outputs": [
    {
     "data": {
      "text/plain": [
       "torch.float64"
      ]
     },
     "execution_count": 7,
     "metadata": {},
     "output_type": "execute_result"
    }
   ],
   "source": [
    "tensor3.dtype"
   ]
  },
  {
   "cell_type": "code",
   "execution_count": 8,
   "metadata": {},
   "outputs": [],
   "source": [
    "# Create a matrix\n",
    "tensor3 = torch.tensor([[1., 3], [4., 11.], [6., 5.]])"
   ]
  },
  {
   "cell_type": "code",
   "execution_count": 9,
   "metadata": {},
   "outputs": [
    {
     "data": {
      "text/plain": [
       "torch.Size([3, 2])"
      ]
     },
     "execution_count": 9,
     "metadata": {},
     "output_type": "execute_result"
    }
   ],
   "source": [
    "tensor3.shape"
   ]
  },
  {
   "cell_type": "code",
   "execution_count": 10,
   "metadata": {},
   "outputs": [],
   "source": [
    "# Create a higher dimension tensor\n",
    "tensor4 = torch.tensor([\n",
    "    [\n",
    "        [1., 2.],\n",
    "        [4., 1.]\n",
    "    ],\n",
    "    [\n",
    "        [2., 3.],\n",
    "        [1., 22.]\n",
    "    ],\n",
    "    [\n",
    "        [4., 5],\n",
    "        [1., 55.]\n",
    "    ]\n",
    "])"
   ]
  },
  {
   "cell_type": "code",
   "execution_count": 11,
   "metadata": {},
   "outputs": [
    {
     "data": {
      "text/plain": [
       "torch.Size([3, 2, 2])"
      ]
     },
     "execution_count": 11,
     "metadata": {},
     "output_type": "execute_result"
    }
   ],
   "source": [
    "tensor4.shape"
   ]
  },
  {
   "cell_type": "code",
   "execution_count": 12,
   "metadata": {},
   "outputs": [],
   "source": [
    "tensor5 = torch.tensor([[[2., 3., 4.], [1., -6., 4.], [2., 4., 6.]], [[6., 3., 3.], [6., -3., 7.], [1., 2., 3.]]])"
   ]
  },
  {
   "cell_type": "code",
   "execution_count": 13,
   "metadata": {},
   "outputs": [
    {
     "data": {
      "text/plain": [
       "torch.Size([2, 3, 3])"
      ]
     },
     "execution_count": 13,
     "metadata": {},
     "output_type": "execute_result"
    }
   ],
   "source": [
    "tensor5.shape"
   ]
  },
  {
   "cell_type": "markdown",
   "metadata": {},
   "source": [
    "## Tensor Operations and Gradients"
   ]
  },
  {
   "cell_type": "code",
   "execution_count": 14,
   "metadata": {},
   "outputs": [
    {
     "data": {
      "text/plain": [
       "tensor(23.)"
      ]
     },
     "execution_count": 14,
     "metadata": {},
     "output_type": "execute_result"
    }
   ],
   "source": [
    "t1 = torch.tensor([1., 2., 3.])\n",
    "t2 = torch.tensor([5., 3., 4.])\n",
    "# Compute the dot the product\n",
    "torch.dot(t1, t2)"
   ]
  },
  {
   "cell_type": "code",
   "execution_count": 15,
   "metadata": {},
   "outputs": [
    {
     "data": {
      "text/plain": [
       "tensor([ 5.,  6., 12.])"
      ]
     },
     "execution_count": 15,
     "metadata": {},
     "output_type": "execute_result"
    }
   ],
   "source": [
    "# Multiply vectors element wise\n",
    "torch.multiply(t1, t2)"
   ]
  },
  {
   "cell_type": "code",
   "execution_count": 16,
   "metadata": {},
   "outputs": [
    {
     "data": {
      "text/plain": [
       "(tensor(5.), tensor(2., requires_grad=True), tensor(1., requires_grad=True))"
      ]
     },
     "execution_count": 16,
     "metadata": {},
     "output_type": "execute_result"
    }
   ],
   "source": [
    "x = torch.tensor(5.)\n",
    "w = torch.tensor(2., requires_grad=True)\n",
    "b = torch.tensor(1., requires_grad=True)\n",
    "\n",
    "x, w, b"
   ]
  },
  {
   "cell_type": "code",
   "execution_count": 17,
   "metadata": {},
   "outputs": [],
   "source": [
    "y = w * torch.pow(x, 2) + b"
   ]
  },
  {
   "cell_type": "code",
   "execution_count": 18,
   "metadata": {},
   "outputs": [
    {
     "name": "stderr",
     "output_type": "stream",
     "text": [
      "/home/rsh/projects/deepl/ml-internship/venv/lib/python3.10/site-packages/torch/autograd/graph.py:744: UserWarning: CUDA initialization: The NVIDIA driver on your system is too old (found version 11060). Please update your GPU driver by downloading and installing a new version from the URL: http://www.nvidia.com/Download/index.aspx Alternatively, go to: https://pytorch.org to install a PyTorch version that has been compiled with your version of the CUDA driver. (Triggered internally at ../c10/cuda/CUDAFunctions.cpp:108.)\n",
      "  return Variable._execution_engine.run_backward(  # Calls into the C++ engine to run the backward pass\n"
     ]
    }
   ],
   "source": [
    "# Calculates the gradients on w and b\n",
    "y.backward()"
   ]
  },
  {
   "cell_type": "code",
   "execution_count": 19,
   "metadata": {},
   "outputs": [
    {
     "name": "stdout",
     "output_type": "stream",
     "text": [
      "tensor(25.)\n"
     ]
    }
   ],
   "source": [
    "print(w.grad) # dy/dw"
   ]
  },
  {
   "cell_type": "code",
   "execution_count": 20,
   "metadata": {},
   "outputs": [
    {
     "name": "stdout",
     "output_type": "stream",
     "text": [
      "tensor(1.)\n"
     ]
    }
   ],
   "source": [
    "print(b.grad)"
   ]
  },
  {
   "cell_type": "markdown",
   "metadata": {},
   "source": [
    "### Convert from numpy to torch tensor"
   ]
  },
  {
   "cell_type": "code",
   "execution_count": 21,
   "metadata": {},
   "outputs": [],
   "source": [
    "np_arr = np.array(([1, 2, 3], [5, 6, 1]))"
   ]
  },
  {
   "cell_type": "code",
   "execution_count": 22,
   "metadata": {},
   "outputs": [
    {
     "data": {
      "text/plain": [
       "(2, 3)"
      ]
     },
     "execution_count": 22,
     "metadata": {},
     "output_type": "execute_result"
    }
   ],
   "source": [
    "np_arr.shape"
   ]
  },
  {
   "cell_type": "code",
   "execution_count": 23,
   "metadata": {},
   "outputs": [
    {
     "data": {
      "text/plain": [
       "numpy.ndarray"
      ]
     },
     "execution_count": 23,
     "metadata": {},
     "output_type": "execute_result"
    }
   ],
   "source": [
    "type(np_arr)"
   ]
  },
  {
   "cell_type": "code",
   "execution_count": 24,
   "metadata": {},
   "outputs": [],
   "source": [
    "torch_tensor = torch.from_numpy(np_arr)"
   ]
  },
  {
   "cell_type": "code",
   "execution_count": 25,
   "metadata": {},
   "outputs": [
    {
     "data": {
      "text/plain": [
       "torch.Tensor"
      ]
     },
     "execution_count": 25,
     "metadata": {},
     "output_type": "execute_result"
    }
   ],
   "source": [
    "type(torch_tensor)"
   ]
  },
  {
   "cell_type": "code",
   "execution_count": 26,
   "metadata": {},
   "outputs": [
    {
     "data": {
      "text/plain": [
       "torch.int64"
      ]
     },
     "execution_count": 26,
     "metadata": {},
     "output_type": "execute_result"
    }
   ],
   "source": [
    "torch_tensor.dtype"
   ]
  },
  {
   "cell_type": "markdown",
   "metadata": {},
   "source": [
    "## Linear Regression"
   ]
  },
  {
   "cell_type": "code",
   "execution_count": 27,
   "metadata": {},
   "outputs": [],
   "source": [
    "import pandas as pd"
   ]
  },
  {
   "cell_type": "code",
   "execution_count": 28,
   "metadata": {},
   "outputs": [
    {
     "data": {
      "text/html": [
       "<div>\n",
       "<style scoped>\n",
       "    .dataframe tbody tr th:only-of-type {\n",
       "        vertical-align: middle;\n",
       "    }\n",
       "\n",
       "    .dataframe tbody tr th {\n",
       "        vertical-align: top;\n",
       "    }\n",
       "\n",
       "    .dataframe thead th {\n",
       "        text-align: right;\n",
       "    }\n",
       "</style>\n",
       "<table border=\"1\" class=\"dataframe\">\n",
       "  <thead>\n",
       "    <tr style=\"text-align: right;\">\n",
       "      <th></th>\n",
       "      <th>region</th>\n",
       "      <th>temp</th>\n",
       "      <th>rainfall</th>\n",
       "      <th>humidity</th>\n",
       "      <th>apples</th>\n",
       "      <th>oranges</th>\n",
       "    </tr>\n",
       "  </thead>\n",
       "  <tbody>\n",
       "    <tr>\n",
       "      <th>0</th>\n",
       "      <td>Kanto</td>\n",
       "      <td>73</td>\n",
       "      <td>67</td>\n",
       "      <td>43</td>\n",
       "      <td>56</td>\n",
       "      <td>70</td>\n",
       "    </tr>\n",
       "    <tr>\n",
       "      <th>1</th>\n",
       "      <td>Johto</td>\n",
       "      <td>91</td>\n",
       "      <td>88</td>\n",
       "      <td>64</td>\n",
       "      <td>81</td>\n",
       "      <td>101</td>\n",
       "    </tr>\n",
       "    <tr>\n",
       "      <th>2</th>\n",
       "      <td>Hoenn</td>\n",
       "      <td>87</td>\n",
       "      <td>134</td>\n",
       "      <td>58</td>\n",
       "      <td>119</td>\n",
       "      <td>133</td>\n",
       "    </tr>\n",
       "    <tr>\n",
       "      <th>3</th>\n",
       "      <td>Sinnoh</td>\n",
       "      <td>102</td>\n",
       "      <td>43</td>\n",
       "      <td>37</td>\n",
       "      <td>22</td>\n",
       "      <td>37</td>\n",
       "    </tr>\n",
       "    <tr>\n",
       "      <th>4</th>\n",
       "      <td>Unova</td>\n",
       "      <td>69</td>\n",
       "      <td>96</td>\n",
       "      <td>70</td>\n",
       "      <td>103</td>\n",
       "      <td>119</td>\n",
       "    </tr>\n",
       "  </tbody>\n",
       "</table>\n",
       "</div>"
      ],
      "text/plain": [
       "   region  temp  rainfall  humidity  apples  oranges\n",
       "0   Kanto    73        67        43      56       70\n",
       "1   Johto    91        88        64      81      101\n",
       "2   Hoenn    87       134        58     119      133\n",
       "3  Sinnoh   102        43        37      22       37\n",
       "4   Unova    69        96        70     103      119"
      ]
     },
     "execution_count": 28,
     "metadata": {},
     "output_type": "execute_result"
    }
   ],
   "source": [
    "df = pd.read_csv(\"./data/production.csv\")\n",
    "df"
   ]
  },
  {
   "cell_type": "code",
   "execution_count": 29,
   "metadata": {},
   "outputs": [
    {
     "data": {
      "text/plain": [
       "(5, 6)"
      ]
     },
     "execution_count": 29,
     "metadata": {},
     "output_type": "execute_result"
    }
   ],
   "source": [
    "df.shape"
   ]
  },
  {
   "cell_type": "code",
   "execution_count": 30,
   "metadata": {},
   "outputs": [],
   "source": [
    "df = df.drop(\"region\", axis=1)"
   ]
  },
  {
   "cell_type": "code",
   "execution_count": 31,
   "metadata": {},
   "outputs": [],
   "source": [
    "df_data_features = df[[\"temp\", \"rainfall\", \"humidity\"]]"
   ]
  },
  {
   "cell_type": "code",
   "execution_count": 32,
   "metadata": {},
   "outputs": [],
   "source": [
    "df_data_target = df[[\"apples\", \"oranges\"]]"
   ]
  },
  {
   "cell_type": "code",
   "execution_count": 33,
   "metadata": {},
   "outputs": [],
   "source": [
    "data_features = df_data_features.to_numpy()\n",
    "data_targets = df_data_target.to_numpy()"
   ]
  },
  {
   "cell_type": "code",
   "execution_count": 34,
   "metadata": {},
   "outputs": [],
   "source": [
    "input_features = torch.from_numpy(data_features).float()\n",
    "targets = torch.from_numpy(data_targets).float()"
   ]
  },
  {
   "cell_type": "code",
   "execution_count": 35,
   "metadata": {},
   "outputs": [
    {
     "data": {
      "text/plain": [
       "(torch.Tensor, torch.Tensor)"
      ]
     },
     "execution_count": 35,
     "metadata": {},
     "output_type": "execute_result"
    }
   ],
   "source": [
    "type(input_features), type(targets)"
   ]
  },
  {
   "cell_type": "code",
   "execution_count": 36,
   "metadata": {},
   "outputs": [
    {
     "data": {
      "text/plain": [
       "(torch.Size([5, 3]), torch.Size([5, 2]))"
      ]
     },
     "execution_count": 36,
     "metadata": {},
     "output_type": "execute_result"
    }
   ],
   "source": [
    "input_features.shape, targets.shape"
   ]
  },
  {
   "cell_type": "code",
   "execution_count": 37,
   "metadata": {},
   "outputs": [],
   "source": [
    "w = torch.randn(2, 3, requires_grad=True)\n",
    "b = torch.randn(2, requires_grad=True)"
   ]
  },
  {
   "cell_type": "code",
   "execution_count": 38,
   "metadata": {},
   "outputs": [],
   "source": [
    "def model(x: torch.tensor) -> torch.tensor:\n",
    "    return x @ w.T + b"
   ]
  },
  {
   "cell_type": "code",
   "execution_count": 39,
   "metadata": {},
   "outputs": [],
   "source": [
    "def loss_function(t1: torch.tensor, t2: torch.tensor) -> torch.tensor: # mse\n",
    "    diff = t1 - t2\n",
    "    return torch.sum((diff * diff) / diff.numel())\n"
   ]
  },
  {
   "cell_type": "code",
   "execution_count": 40,
   "metadata": {},
   "outputs": [],
   "source": [
    "def train(w, b, epochs: int=1000, alpha: float=1e-5) -> list:\n",
    "    losses = []\n",
    "    for idx in range(epochs):\n",
    "        preds = model(input_features)\n",
    "        loss = loss_function(preds, targets)\n",
    "        losses.append(loss.detach())\n",
    "        if idx % 5 == 0:\n",
    "            print(f\"The loss is {loss}\")\n",
    "        loss.backward()\n",
    "        with torch.no_grad():\n",
    "            w -= w.grad * alpha\n",
    "            b -= b.grad * alpha\n",
    "            w.grad.zero_()\n",
    "            b.grad.zero_()\n",
    "    return losses"
   ]
  },
  {
   "cell_type": "code",
   "execution_count": 41,
   "metadata": {},
   "outputs": [
    {
     "name": "stdout",
     "output_type": "stream",
     "text": [
      "The loss is 1574.4581298828125\n",
      "The loss is 450.01446533203125\n",
      "The loss is 285.5314025878906\n",
      "The loss is 254.9068145751953\n",
      "The loss is 243.3081817626953\n",
      "The loss is 234.7509765625\n",
      "The loss is 226.98974609375\n",
      "The loss is 219.69021606445312\n",
      "The loss is 212.7845916748047\n",
      "The loss is 206.24375915527344\n",
      "The loss is 200.04515075683594\n",
      "The loss is 194.16790771484375\n",
      "The loss is 188.59307861328125\n",
      "The loss is 183.30239868164062\n",
      "The loss is 178.27896118164062\n",
      "The loss is 173.5070037841797\n",
      "The loss is 168.97142028808594\n",
      "The loss is 164.6580810546875\n",
      "The loss is 160.55419921875\n",
      "The loss is 156.64698791503906\n",
      "The loss is 152.9252166748047\n",
      "The loss is 149.37779235839844\n",
      "The loss is 145.99440002441406\n",
      "The loss is 142.76571655273438\n",
      "The loss is 139.68246459960938\n",
      "The loss is 136.736328125\n",
      "The loss is 133.9193878173828\n",
      "The loss is 131.22402954101562\n",
      "The loss is 128.6432342529297\n",
      "The loss is 126.17058563232422\n",
      "The loss is 123.79998779296875\n",
      "The loss is 121.52530670166016\n",
      "The loss is 119.34123229980469\n",
      "The loss is 117.24274444580078\n",
      "The loss is 115.22502899169922\n",
      "The loss is 113.2834243774414\n",
      "The loss is 111.4136734008789\n",
      "The loss is 109.61199188232422\n",
      "The loss is 107.87448120117188\n",
      "The loss is 106.19769287109375\n",
      "The loss is 104.5783920288086\n",
      "The loss is 103.01315307617188\n",
      "The loss is 101.49930572509766\n",
      "The loss is 100.03426361083984\n",
      "The loss is 98.6150894165039\n",
      "The loss is 97.2396011352539\n",
      "The loss is 95.9053955078125\n",
      "The loss is 94.61042785644531\n",
      "The loss is 93.35257720947266\n",
      "The loss is 92.12999725341797\n",
      "The loss is 90.9410629272461\n",
      "The loss is 89.78389739990234\n",
      "The loss is 88.65699005126953\n",
      "The loss is 87.55876922607422\n",
      "The loss is 86.48799896240234\n",
      "The loss is 85.4432601928711\n",
      "The loss is 84.4234619140625\n",
      "The loss is 83.42726135253906\n",
      "The loss is 82.45364379882812\n",
      "The loss is 81.50153350830078\n",
      "The loss is 80.57009887695312\n",
      "The loss is 79.65821838378906\n",
      "The loss is 78.7652359008789\n",
      "The loss is 77.8901596069336\n",
      "The loss is 77.03240203857422\n",
      "The loss is 76.19113159179688\n",
      "The loss is 75.36564636230469\n",
      "The loss is 74.55534362792969\n",
      "The loss is 73.75969696044922\n",
      "The loss is 72.97801971435547\n",
      "The loss is 72.2098159790039\n",
      "The loss is 71.45468139648438\n",
      "The loss is 70.71195220947266\n",
      "The loss is 69.9812240600586\n",
      "The loss is 69.26219177246094\n",
      "The loss is 68.55433654785156\n",
      "The loss is 67.85722351074219\n",
      "The loss is 67.1706771850586\n",
      "The loss is 66.4942398071289\n",
      "The loss is 65.82755279541016\n",
      "The loss is 65.17046356201172\n",
      "The loss is 64.52245330810547\n",
      "The loss is 63.88332748413086\n",
      "The loss is 63.252952575683594\n",
      "The loss is 62.63102722167969\n",
      "The loss is 62.01712417602539\n",
      "The loss is 61.411380767822266\n",
      "The loss is 60.81318283081055\n",
      "The loss is 60.222618103027344\n",
      "The loss is 59.639404296875\n",
      "The loss is 59.06343460083008\n",
      "The loss is 58.494258880615234\n",
      "The loss is 57.932044982910156\n",
      "The loss is 57.3764762878418\n",
      "The loss is 56.82747268676758\n",
      "The loss is 56.28470230102539\n",
      "The loss is 55.748287200927734\n",
      "The loss is 55.21793746948242\n",
      "The loss is 54.69357681274414\n",
      "The loss is 54.17501449584961\n",
      "The loss is 53.66229248046875\n",
      "The loss is 53.155147552490234\n",
      "The loss is 52.65359115600586\n",
      "The loss is 52.15735626220703\n",
      "The loss is 51.66652297973633\n",
      "The loss is 51.180877685546875\n",
      "The loss is 50.70042419433594\n",
      "The loss is 50.22500991821289\n",
      "The loss is 49.754608154296875\n",
      "The loss is 49.289031982421875\n",
      "The loss is 48.828285217285156\n",
      "The loss is 48.3723030090332\n",
      "The loss is 47.920982360839844\n",
      "The loss is 47.47428894042969\n",
      "The loss is 47.032081604003906\n",
      "The loss is 46.59437561035156\n",
      "The loss is 46.16106414794922\n",
      "The loss is 45.73210525512695\n",
      "The loss is 45.30738067626953\n",
      "The loss is 44.886871337890625\n",
      "The loss is 44.47059631347656\n",
      "The loss is 44.05839920043945\n",
      "The loss is 43.650291442871094\n",
      "The loss is 43.24615478515625\n",
      "The loss is 42.84602737426758\n",
      "The loss is 42.44976806640625\n",
      "The loss is 42.05731964111328\n",
      "The loss is 41.668785095214844\n",
      "The loss is 41.28394317626953\n",
      "The loss is 40.902854919433594\n",
      "The loss is 40.525489807128906\n",
      "The loss is 40.15171813964844\n",
      "The loss is 39.78151321411133\n",
      "The loss is 39.41490936279297\n",
      "The loss is 39.051788330078125\n",
      "The loss is 38.692100524902344\n",
      "The loss is 38.33591079711914\n",
      "The loss is 37.9831657409668\n",
      "The loss is 37.633697509765625\n",
      "The loss is 37.28760528564453\n",
      "The loss is 36.94475173950195\n",
      "The loss is 36.605220794677734\n",
      "The loss is 36.26887130737305\n",
      "The loss is 35.93572998046875\n",
      "The loss is 35.605682373046875\n",
      "The loss is 35.2787971496582\n",
      "The loss is 34.95498275756836\n",
      "The loss is 34.63426971435547\n",
      "The loss is 34.316551208496094\n",
      "The loss is 34.00183868408203\n",
      "The loss is 33.690067291259766\n",
      "The loss is 33.38127136230469\n",
      "The loss is 33.0753288269043\n",
      "The loss is 32.77228927612305\n",
      "The loss is 32.47208023071289\n",
      "The loss is 32.17470169067383\n",
      "The loss is 31.880165100097656\n",
      "The loss is 31.588359832763672\n",
      "The loss is 31.29927635192871\n",
      "The loss is 31.012897491455078\n",
      "The loss is 30.729137420654297\n",
      "The loss is 30.44809341430664\n",
      "The loss is 30.1696720123291\n",
      "The loss is 29.89392852783203\n",
      "The loss is 29.62069320678711\n",
      "The loss is 29.350032806396484\n",
      "The loss is 29.081876754760742\n",
      "The loss is 28.816272735595703\n",
      "The loss is 28.553083419799805\n",
      "The loss is 28.292438507080078\n",
      "The loss is 28.03413963317871\n",
      "The loss is 27.778297424316406\n",
      "The loss is 27.524831771850586\n",
      "The loss is 27.27374267578125\n",
      "The loss is 27.02500343322754\n",
      "The loss is 26.778554916381836\n",
      "The loss is 26.534404754638672\n",
      "The loss is 26.29257583618164\n",
      "The loss is 26.052942276000977\n",
      "The loss is 25.815576553344727\n",
      "The loss is 25.580429077148438\n",
      "The loss is 25.34746742248535\n",
      "The loss is 25.11666488647461\n",
      "The loss is 24.88800621032715\n",
      "The loss is 24.661535263061523\n",
      "The loss is 24.43705177307129\n",
      "The loss is 24.21476936340332\n",
      "The loss is 23.99452018737793\n",
      "The loss is 23.776321411132812\n",
      "The loss is 23.56018829345703\n",
      "The loss is 23.345975875854492\n",
      "The loss is 23.133867263793945\n",
      "The loss is 22.92365264892578\n",
      "The loss is 22.71546173095703\n",
      "The loss is 22.509164810180664\n",
      "The loss is 22.304763793945312\n",
      "The loss is 22.10232162475586\n",
      "The loss is 21.9017276763916\n",
      "The loss is 21.703052520751953\n",
      "The loss is 21.50613784790039\n"
     ]
    }
   ],
   "source": [
    "losses = train(w, b)"
   ]
  },
  {
   "cell_type": "code",
   "execution_count": 42,
   "metadata": {},
   "outputs": [
    {
     "data": {
      "text/plain": [
       "[<matplotlib.lines.Line2D at 0x7f309daaa020>]"
      ]
     },
     "execution_count": 42,
     "metadata": {},
     "output_type": "execute_result"
    },
    {
     "data": {
      "image/png": "[encoded data removed]",
      "text/plain": [
       "<Figure size 640x480 with 1 Axes>"
      ]
     },
     "metadata": {},
     "output_type": "display_data"
    }
   ],
   "source": [
    "plt.plot(losses)"
   ]
  },
  {
   "cell_type": "code",
   "execution_count": 43,
   "metadata": {},
   "outputs": [
    {
     "name": "stdout",
     "output_type": "stream",
     "text": [
      "tensor(21.3111, grad_fn=<SumBackward0>)\n"
     ]
    }
   ],
   "source": [
    "preds = model(input_features)\n",
    "loss = loss_function(preds, targets)\n",
    "print(loss)"
   ]
  },
  {
   "cell_type": "code",
   "execution_count": 44,
   "metadata": {},
   "outputs": [
    {
     "data": {
      "text/plain": [
       "(tensor([[ 56.9427,  70.9700],\n",
       "         [ 83.5545,  96.2164],\n",
       "         [115.9843, 142.0277],\n",
       "         [ 20.3912,  39.5531],\n",
       "         [104.5760, 110.0731]], grad_fn=<AddBackward0>),\n",
       " tensor([[ 56.,  70.],\n",
       "         [ 81., 101.],\n",
       "         [119., 133.],\n",
       "         [ 22.,  37.],\n",
       "         [103., 119.]]))"
      ]
     },
     "execution_count": 44,
     "metadata": {},
     "output_type": "execute_result"
    }
   ],
   "source": [
    "# Compare the preds and groundtruth\n",
    "preds, targets"
   ]
  },
  {
   "cell_type": "markdown",
   "metadata": {},
   "source": [
    "## Use GPU"
   ]
  },
  {
   "cell_type": "code",
   "execution_count": 45,
   "metadata": {},
   "outputs": [
    {
     "name": "stdout",
     "output_type": "stream",
     "text": [
      "Mon Jun 24 10:58:20 2024       \n",
      "+-----------------------------------------------------------------------------+\n",
      "| NVIDIA-SMI 510.108.03   Driver Version: 510.108.03   CUDA Version: 11.6     |\n",
      "|-------------------------------+----------------------+----------------------+\n",
      "| GPU  Name        Persistence-M| Bus-Id        Disp.A | Volatile Uncorr. ECC |\n",
      "| Fan  Temp  Perf  Pwr:Usage/Cap|         Memory-Usage | GPU-Util  Compute M. |\n",
      "|                               |                      |               MIG M. |\n",
      "|===============================+======================+======================|\n",
      "|   0  NVIDIA GeForce ...  Off  | 00000000:01:00.0 Off |                  N/A |\n",
      "| N/A   57C    P0    16W /  N/A |   1130MiB /  4096MiB |     63%      Default |\n",
      "|                               |                      |                  N/A |\n",
      "+-------------------------------+----------------------+----------------------+\n",
      "                                                                               \n",
      "+-----------------------------------------------------------------------------+\n",
      "| Processes:                                                                  |\n",
      "|  GPU   GI   CI        PID   Type   Process name                  GPU Memory |\n",
      "|        ID   ID                                                   Usage      |\n",
      "|=============================================================================|\n",
      "|    0   N/A  N/A      1077      G   /usr/lib/xorg/Xorg                707MiB |\n",
      "|    0   N/A  N/A      1857      G   cinnamon                           23MiB |\n",
      "|    0   N/A  N/A      2332      G   /usr/lib/firefox/firefox          139MiB |\n",
      "|    0   N/A  N/A      6414      G   /usr/lib/firefox/firefox-bin        2MiB |\n",
      "|    0   N/A  N/A   1435747      G   ...--variations-seed-version       20MiB |\n",
      "|    0   N/A  N/A   1436653      G   ...RendererForSitePerProcess      230MiB |\n",
      "+-----------------------------------------------------------------------------+\n"
     ]
    }
   ],
   "source": [
    "# check: nvidia-smi\n",
    "! nvidia-smi"
   ]
  },
  {
   "cell_type": "code",
   "execution_count": 46,
   "metadata": {},
   "outputs": [
    {
     "data": {
      "text/plain": [
       "False"
      ]
     },
     "execution_count": 46,
     "metadata": {},
     "output_type": "execute_result"
    }
   ],
   "source": [
    "\n",
    "\n",
    "# Check if GPU is available\n",
    "\n",
    "torch.cuda.is_available()"
   ]
  },
  {
   "cell_type": "code",
   "execution_count": 47,
   "metadata": {},
   "outputs": [
    {
     "data": {
      "text/plain": [
       "1"
      ]
     },
     "execution_count": 47,
     "metadata": {},
     "output_type": "execute_result"
    }
   ],
   "source": [
    "torch.cuda.device_count()"
   ]
  },
  {
   "cell_type": "code",
   "execution_count": 48,
   "metadata": {},
   "outputs": [],
   "source": [
    "device = torch.device('cuda' if torch.cuda.is_available() else 'cpu')"
   ]
  },
  {
   "cell_type": "code",
   "execution_count": 49,
   "metadata": {},
   "outputs": [
    {
     "data": {
      "text/plain": [
       "device(type='cpu')"
      ]
     },
     "execution_count": 49,
     "metadata": {},
     "output_type": "execute_result"
    }
   ],
   "source": [
    "device"
   ]
  },
  {
   "cell_type": "code",
   "execution_count": 50,
   "metadata": {},
   "outputs": [
    {
     "data": {
      "text/plain": [
       "tensor([1., 2., 3.])"
      ]
     },
     "execution_count": 50,
     "metadata": {},
     "output_type": "execute_result"
    }
   ],
   "source": [
    "data = torch.tensor([1., 2., 3.])\n",
    "data"
   ]
  },
  {
   "cell_type": "code",
   "execution_count": 51,
   "metadata": {},
   "outputs": [],
   "source": [
    "data = data.to(device)"
   ]
  },
  {
   "cell_type": "code",
   "execution_count": 52,
   "metadata": {},
   "outputs": [
    {
     "data": {
      "text/plain": [
       "tensor([1., 2., 3.])"
      ]
     },
     "execution_count": 52,
     "metadata": {},
     "output_type": "execute_result"
    }
   ],
   "source": [
    "data"
   ]
  },
  {
   "cell_type": "code",
   "execution_count": null,
   "metadata": {},
   "outputs": [],
   "source": []
  }
 ],
 "metadata": {
  "kernelspec": {
   "display_name": "venv",
   "language": "python",
   "name": "python3"
  },
  "language_info": {
   "codemirror_mode": {
    "name": "ipython",
    "version": 3
   },
   "file_extension": ".py",
   "mimetype": "text/x-python",
   "name": "python",
   "nbconvert_exporter": "python",
   "pygments_lexer": "ipython3",
   "version": "3.10.13"
  },
  "orig_nbformat": 4
 },
 "nbformat": 4,
 "nbformat_minor": 2
}
